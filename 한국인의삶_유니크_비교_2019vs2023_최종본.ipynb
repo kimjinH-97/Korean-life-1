{
 "cells": [
  {
   "cell_type": "code",
   "execution_count": 124,
   "id": "6d4dc360",
   "metadata": {},
   "outputs": [],
   "source": [
    "# 2019년 코드 (셀 1)\n",
    "import pandas as pd\n",
    "import numpy as np\n",
    "import seaborn as sns\n",
    "import pyreadstat as py\n",
    "import plotly.express as px\n",
    "import matplotlib as mpl\n",
    "import matplotlib.lines as mlines\n",
    "\n",
    "\n",
    "# 2023년 코드 (셀 1)\n",
    "import pandas as pd\n",
    "import numpy as np\n",
    "import seaborn as sns\n",
    "import pyreadstat as py\n",
    "\n",
    "import matplotlib.pyplot as plt\n",
    "\n",
    "plt.rcParams.update({'font.family' : \"Malgun Gothic\"})\n"
   ]
  },
  {
   "cell_type": "code",
   "execution_count": 125,
   "id": "029c779b",
   "metadata": {},
   "outputs": [
    {
     "data": {
      "text/html": [
       "<div>\n",
       "<style scoped>\n",
       "    .dataframe tbody tr th:only-of-type {\n",
       "        vertical-align: middle;\n",
       "    }\n",
       "\n",
       "    .dataframe tbody tr th {\n",
       "        vertical-align: top;\n",
       "    }\n",
       "\n",
       "    .dataframe thead th {\n",
       "        text-align: right;\n",
       "    }\n",
       "</style>\n",
       "<table border=\"1\" class=\"dataframe\">\n",
       "  <thead>\n",
       "    <tr style=\"text-align: right;\">\n",
       "      <th></th>\n",
       "      <th>h18_id</th>\n",
       "      <th>h18_ind</th>\n",
       "      <th>h18_sn</th>\n",
       "      <th>h18_merkey</th>\n",
       "      <th>h_new</th>\n",
       "      <th>h_new1</th>\n",
       "      <th>h18_cobf</th>\n",
       "      <th>p18_wsc</th>\n",
       "      <th>p18_wsl</th>\n",
       "      <th>p18_wgc</th>\n",
       "      <th>...</th>\n",
       "      <th>da18_324</th>\n",
       "      <th>da18_325</th>\n",
       "      <th>da18_326</th>\n",
       "      <th>da18_327</th>\n",
       "      <th>da18_6aq14</th>\n",
       "      <th>h18_pers_income1</th>\n",
       "      <th>h18_pers_income2</th>\n",
       "      <th>h18_pers_income3</th>\n",
       "      <th>h18_pers_income4</th>\n",
       "      <th>h18_pers_income5</th>\n",
       "    </tr>\n",
       "  </thead>\n",
       "  <tbody>\n",
       "    <tr>\n",
       "      <th>0</th>\n",
       "      <td>2.0</td>\n",
       "      <td>1.0</td>\n",
       "      <td>1.0</td>\n",
       "      <td>20101.0</td>\n",
       "      <td>0.0</td>\n",
       "      <td>0.0</td>\n",
       "      <td>NaN</td>\n",
       "      <td>0.256182</td>\n",
       "      <td>0.259465</td>\n",
       "      <td>1353.065043</td>\n",
       "      <td>...</td>\n",
       "      <td>NaN</td>\n",
       "      <td>NaN</td>\n",
       "      <td>NaN</td>\n",
       "      <td>NaN</td>\n",
       "      <td>NaN</td>\n",
       "      <td>NaN</td>\n",
       "      <td>NaN</td>\n",
       "      <td>NaN</td>\n",
       "      <td>0.0</td>\n",
       "      <td>NaN</td>\n",
       "    </tr>\n",
       "    <tr>\n",
       "      <th>1</th>\n",
       "      <td>3.0</td>\n",
       "      <td>1.0</td>\n",
       "      <td>1.0</td>\n",
       "      <td>30101.0</td>\n",
       "      <td>0.0</td>\n",
       "      <td>0.0</td>\n",
       "      <td>NaN</td>\n",
       "      <td>0.480753</td>\n",
       "      <td>0.397864</td>\n",
       "      <td>2539.170017</td>\n",
       "      <td>...</td>\n",
       "      <td>NaN</td>\n",
       "      <td>NaN</td>\n",
       "      <td>NaN</td>\n",
       "      <td>NaN</td>\n",
       "      <td>NaN</td>\n",
       "      <td>NaN</td>\n",
       "      <td>2160.0</td>\n",
       "      <td>NaN</td>\n",
       "      <td>0.0</td>\n",
       "      <td>NaN</td>\n",
       "    </tr>\n",
       "    <tr>\n",
       "      <th>2</th>\n",
       "      <td>4.0</td>\n",
       "      <td>1.0</td>\n",
       "      <td>1.0</td>\n",
       "      <td>40101.0</td>\n",
       "      <td>0.0</td>\n",
       "      <td>0.0</td>\n",
       "      <td>NaN</td>\n",
       "      <td>0.232618</td>\n",
       "      <td>0.220094</td>\n",
       "      <td>1228.608612</td>\n",
       "      <td>...</td>\n",
       "      <td>NaN</td>\n",
       "      <td>NaN</td>\n",
       "      <td>NaN</td>\n",
       "      <td>NaN</td>\n",
       "      <td>NaN</td>\n",
       "      <td>NaN</td>\n",
       "      <td>235.0</td>\n",
       "      <td>NaN</td>\n",
       "      <td>0.0</td>\n",
       "      <td>NaN</td>\n",
       "    </tr>\n",
       "    <tr>\n",
       "      <th>3</th>\n",
       "      <td>6.0</td>\n",
       "      <td>1.0</td>\n",
       "      <td>1.0</td>\n",
       "      <td>60101.0</td>\n",
       "      <td>0.0</td>\n",
       "      <td>0.0</td>\n",
       "      <td>NaN</td>\n",
       "      <td>0.591596</td>\n",
       "      <td>0.524757</td>\n",
       "      <td>3124.604491</td>\n",
       "      <td>...</td>\n",
       "      <td>NaN</td>\n",
       "      <td>NaN</td>\n",
       "      <td>NaN</td>\n",
       "      <td>NaN</td>\n",
       "      <td>NaN</td>\n",
       "      <td>3020.0</td>\n",
       "      <td>NaN</td>\n",
       "      <td>NaN</td>\n",
       "      <td>0.0</td>\n",
       "      <td>NaN</td>\n",
       "    </tr>\n",
       "    <tr>\n",
       "      <th>4</th>\n",
       "      <td>6.0</td>\n",
       "      <td>1.0</td>\n",
       "      <td>1.0</td>\n",
       "      <td>60101.0</td>\n",
       "      <td>0.0</td>\n",
       "      <td>0.0</td>\n",
       "      <td>NaN</td>\n",
       "      <td>0.940481</td>\n",
       "      <td>0.858730</td>\n",
       "      <td>4967.289420</td>\n",
       "      <td>...</td>\n",
       "      <td>NaN</td>\n",
       "      <td>NaN</td>\n",
       "      <td>NaN</td>\n",
       "      <td>NaN</td>\n",
       "      <td>NaN</td>\n",
       "      <td>NaN</td>\n",
       "      <td>914.0</td>\n",
       "      <td>NaN</td>\n",
       "      <td>0.0</td>\n",
       "      <td>NaN</td>\n",
       "    </tr>\n",
       "  </tbody>\n",
       "</table>\n",
       "<p>5 rows × 1155 columns</p>\n",
       "</div>"
      ],
      "text/plain": [
       "   h18_id  h18_ind  h18_sn  h18_merkey  h_new  h_new1  h18_cobf   p18_wsc  \\\n",
       "0     2.0      1.0     1.0     20101.0    0.0     0.0       NaN  0.256182   \n",
       "1     3.0      1.0     1.0     30101.0    0.0     0.0       NaN  0.480753   \n",
       "2     4.0      1.0     1.0     40101.0    0.0     0.0       NaN  0.232618   \n",
       "3     6.0      1.0     1.0     60101.0    0.0     0.0       NaN  0.591596   \n",
       "4     6.0      1.0     1.0     60101.0    0.0     0.0       NaN  0.940481   \n",
       "\n",
       "    p18_wsl      p18_wgc  ...  da18_324  da18_325  da18_326  da18_327  \\\n",
       "0  0.259465  1353.065043  ...       NaN       NaN       NaN       NaN   \n",
       "1  0.397864  2539.170017  ...       NaN       NaN       NaN       NaN   \n",
       "2  0.220094  1228.608612  ...       NaN       NaN       NaN       NaN   \n",
       "3  0.524757  3124.604491  ...       NaN       NaN       NaN       NaN   \n",
       "4  0.858730  4967.289420  ...       NaN       NaN       NaN       NaN   \n",
       "\n",
       "   da18_6aq14  h18_pers_income1  h18_pers_income2  h18_pers_income3  \\\n",
       "0         NaN               NaN               NaN               NaN   \n",
       "1         NaN               NaN            2160.0               NaN   \n",
       "2         NaN               NaN             235.0               NaN   \n",
       "3         NaN            3020.0               NaN               NaN   \n",
       "4         NaN               NaN             914.0               NaN   \n",
       "\n",
       "   h18_pers_income4  h18_pers_income5  \n",
       "0               0.0               NaN  \n",
       "1               0.0               NaN  \n",
       "2               0.0               NaN  \n",
       "3               0.0               NaN  \n",
       "4               0.0               NaN  \n",
       "\n",
       "[5 rows x 1155 columns]"
      ]
     },
     "execution_count": 125,
     "metadata": {},
     "output_type": "execute_result"
    }
   ],
   "source": [
    "# 2019년 코드 (셀 2)\n",
    "# 데이터 불러오기\n",
    "raw_welfare_2019 =pd.read_spss('D:/한국인의삶 백업폴더/Koweps_hpwc14_2019_beta2.sav')\n",
    "\n",
    "# 복사본 만들기\n",
    "welfare_2019 =raw_welfare_2019.copy()\n",
    "welfare_2019.head()\n",
    "\n",
    "# 2023년 코드 (셀 2)\n",
    "# 데이터 불러오기\n",
    "raw_welfare_2023 =pd.read_spss('D:/한국인의삶 백업폴더/Koweps_hpda18_2023_beta1.sav')\n",
    "\n",
    "# 복사본 만들기\n",
    "welfare_2023 =raw_welfare_2023.copy()\n",
    "welfare_2023.head()"
   ]
  },
  {
   "cell_type": "code",
   "execution_count": 126,
   "id": "26d28e4a",
   "metadata": {},
   "outputs": [],
   "source": [
    "# 2019년 코드 (셀 3)\n",
    "# 데이터 검토\n",
    "# welfare_2019 # 앞부분, 뒷부분 확인\n",
    "#welfare_2019.shape # 행,열의 갯수\n",
    "#welfare_2019.info() # 열의 속성\n",
    "#welfare_2019.describe() #요약 통계\n",
    "#welfare_2019.head()\n",
    "\n",
    "# 2023년 코드 (셀 3)\n",
    "# 데이터 검토\n",
    "# welfare_2023 # 앞부분, 뒷부분 확인\n",
    "#welfare_2023.shape # 행,열의 갯수\n",
    "#welfare_2023.info() # 열의 속성\n",
    "#welfare_2023.describe() #요약 통계\n",
    "#welfare_2023.head()\n"
   ]
  },
  {
   "cell_type": "code",
   "execution_count": 127,
   "id": "8fcf8336",
   "metadata": {},
   "outputs": [],
   "source": [
    "# 2019년 코드 (셀 4)\n",
    "# 분석에 필요한 열을 결정/ 열이름 변경\n",
    "welfare_2019 =welfare_2019.rename(\n",
    "    columns={'h14_g3'    : 'sex19',            #성별\n",
    "             'h14_g4'    : 'birth19',          #태어난 년도\n",
    "             'h14_g10'   : 'marriage_type19',  #혼인 상태\n",
    "             'h14_g11'   : 'religion19',       #종교\n",
    "             'p1402_8aq1': 'income19',         #월급\n",
    "             'h14_eco9'  : 'code_job19',       #직업코드\n",
    "             'h14_reg7'  : 'code_region19'})   #지역 코드\n",
    "\n",
    "# 2023년 코드 (셀 4)\n",
    "# 분석에 필요한 열을 결정/ 열이름 변경\n",
    "welfare_2023 =welfare_2023.rename(\n",
    "    columns={'h18_g3'    : 'sex23',            #성별\n",
    "             'h18_g4'    : 'birth23',          #태어난 년도\n",
    "             'h18_g10'   : 'marriage_type23',  #혼인 상태\n",
    "             'h18_g11'   : 'religion23',       #종교\n",
    "             'p1802_8aq1': 'income23',         #월급\n",
    "             'h18_eco9'  : 'code_job23',       #직업코드\n",
    "             'h18_reg7'  : 'code_region23'})   #지역 코드"
   ]
  },
  {
   "cell_type": "code",
   "execution_count": 128,
   "id": "ebc80ab7",
   "metadata": {},
   "outputs": [
    {
     "name": "stdout",
     "output_type": "stream",
     "text": [
      "float64\n",
      "float64\n"
     ]
    }
   ],
   "source": [
    "# 2019년 코드 (셀 5)\n",
    "# 성별 변수 검토 및 전처리\n",
    "print(welfare_2019['sex19'].dtype) # 타입 출력\n",
    "\n",
    "# 2023년 코드 (셀 5)\n",
    "# 성별 변수 검토 및 전처리\n",
    "print(welfare_2023['sex23'].dtype) # 타입 출력"
   ]
  },
  {
   "cell_type": "code",
   "execution_count": 129,
   "id": "fd3307f5",
   "metadata": {},
   "outputs": [
    {
     "name": "stdout",
     "output_type": "stream",
     "text": [
      "sex19\n",
      "2.0    7913\n",
      "1.0    6505\n",
      "Name: count, dtype: int64\n",
      "sex23\n",
      "2.0    8787\n",
      "1.0    7144\n",
      "Name: count, dtype: int64\n"
     ]
    }
   ],
   "source": [
    "# 2019년 코드 (셀 6)\n",
    "print(welfare_2019['sex19'].value_counts()) #빈도수\n",
    "\n",
    "# 2023년 코드 (셀 6)\n",
    "print(welfare_2023['sex23'].value_counts()) #빈도수"
   ]
  },
  {
   "cell_type": "code",
   "execution_count": 130,
   "id": "31128e93",
   "metadata": {},
   "outputs": [
    {
     "data": {
      "text/plain": [
       "np.int64(0)"
      ]
     },
     "execution_count": 130,
     "metadata": {},
     "output_type": "execute_result"
    }
   ],
   "source": [
    "# 2019년 코드 (셀 7)\n",
    "# 이상치 결측 처리\n",
    "welfare_2019['sex19'] =np.where(welfare_2019['sex19'] ==9, np.nan, welfare_2019['sex19'])\n",
    "\n",
    "# 결측 확인 #loc<< 이거 행 변경 기억하기.\n",
    "welfare_2019['sex19'].isna().sum()\n",
    "\n",
    "# 2023년 코드 (셀 7)\n",
    "# 이상치 결측 처리\n",
    "welfare_2023['sex23'] =np.where(welfare_2023['sex23'] ==9, np.nan, welfare_2023['sex23'])\n",
    "\n",
    "# 결측 확인 #loc<< 이거 행 변경 기억하기.\n",
    "welfare_2023['sex23'].isna().sum()"
   ]
  },
  {
   "cell_type": "code",
   "execution_count": 131,
   "id": "2c5cadce",
   "metadata": {},
   "outputs": [
    {
     "name": "stdout",
     "output_type": "stream",
     "text": [
      "sex19\n",
      "female    7913\n",
      "male      6505\n",
      "Name: count, dtype: int64\n",
      "sex23\n",
      "female    8787\n",
      "male      7144\n",
      "Name: count, dtype: int64\n"
     ]
    }
   ],
   "source": [
    "# 2019년 코드 (셀 8)\n",
    "# 성별 항목 이름 부여\n",
    "welfare_2019['sex19']= np.where(welfare_2019['sex19'] == 1, 'male','female')\n",
    "\n",
    "#빈도구하기\n",
    "print(welfare_2019['sex19'].value_counts())\n",
    "\n",
    "# 2023년 코드 (셀 8)\n",
    "# 성별 항목 이름 부여\n",
    "welfare_2023['sex23']= np.where(welfare_2023['sex23'] == 1, 'male','female')\n",
    "\n",
    "#빈도구하기\n",
    "print(welfare_2023['sex23'].value_counts())"
   ]
  },
  {
   "cell_type": "code",
   "execution_count": 132,
   "id": "ec4167f8",
   "metadata": {},
   "outputs": [
    {
     "data": {
      "text/plain": [
       "<Axes: xlabel='sex19', ylabel='count'>"
      ]
     },
     "execution_count": 132,
     "metadata": {},
     "output_type": "execute_result"
    },
    {
     "data": {
      "image/png": "[encoded data removed]",
      "text/plain": [
       "<Figure size 640x480 with 1 Axes>"
      ]
     },
     "metadata": {},
     "output_type": "display_data"
    }
   ],
   "source": [
    "# 2019년 코드 (셀 9)\n",
    "# 빈도 막대 그래프 # seaborn을 쓰고있다는것 map plot을 안쓰고있고\n",
    "sns.countplot(data =welfare_2019, x='sex19') \n"
   ]
  },
  {
   "cell_type": "code",
   "execution_count": 133,
   "id": "06d39b05",
   "metadata": {},
   "outputs": [
    {
     "data": {
      "text/plain": [
       "<Axes: xlabel='sex23', ylabel='count'>"
      ]
     },
     "execution_count": 133,
     "metadata": {},
     "output_type": "execute_result"
    },
    {
     "data": {
      "image/png": "[encoded data removed]",
      "text/plain": [
       "<Figure size 640x480 with 1 Axes>"
      ]
     },
     "metadata": {},
     "output_type": "display_data"
    }
   ],
   "source": [
    "\n",
    "# 2023년 코드 (셀 9)\n",
    "# 빈도 막대 그래프 # seaborn을 쓰고있다는것 map plot을 안쓰고있고\n",
    "sns.countplot(data =welfare_2023, x='sex23') "
   ]
  },
  {
   "cell_type": "code",
   "execution_count": 134,
   "id": "5d9640e4",
   "metadata": {},
   "outputs": [
    {
     "data": {
      "image/png": "[encoded data removed]",
      "text/plain": [
       "<Figure size 1000x600 with 1 Axes>"
      ]
     },
     "metadata": {},
     "output_type": "display_data"
    }
   ],
   "source": [
    "import pandas as pd\n",
    "import seaborn as sns\n",
    "import matplotlib.pyplot as plt\n",
    "\n",
    "# 예시 데이터프레임 (데이터 로드 필요)\n",
    "# welfare_2019 = pd.read_csv('welfare_2019.csv')  # 2019년 데이터 로드\n",
    "# welfare_2023 = pd.read_csv('welfare_2023.csv')  # 2023년 데이터 로드\n",
    "\n",
    "# 2019년 성별 데이터 처리\n",
    "count_2019 = welfare_2019['sex19'].value_counts().reset_index()\n",
    "count_2019.columns = ['Sex', 'Count']\n",
    "count_2019['Year'] = '2019'\n",
    "\n",
    "# 2023년 성별 데이터 처리\n",
    "count_2023 = welfare_2023['sex23'].value_counts().reset_index()\n",
    "count_2023.columns = ['Sex', 'Count']\n",
    "count_2023['Year'] = '2023'\n",
    "\n",
    "# 두 데이터프레임 병합\n",
    "comparison_df = pd.concat([count_2019, count_2023], ignore_index=True)\n",
    "\n",
    "# 차트 생성\n",
    "plt.figure(figsize=(10, 6))\n",
    "sns.barplot(data=comparison_df, x='Year', y='Count', hue='Sex', palette='pastel')\n",
    "\n",
    "# 차트 제목 및 레이블 설정\n",
    "plt.title('2019년과 2023년의 남여 인원 비교')\n",
    "plt.xlabel('년도')\n",
    "plt.ylabel('명수')\n",
    "\n",
    "# 차트 표시\n",
    "plt.show()\n"
   ]
  },
  {
   "cell_type": "code",
   "execution_count": 135,
   "id": "bcdf7de9",
   "metadata": {},
   "outputs": [
    {
     "name": "stdout",
     "output_type": "stream",
     "text": [
      "float64\n",
      "float64\n"
     ]
    }
   ],
   "source": [
    "# 2019년 코드 (셀 10)\n",
    "# 월급 # 변수 타입 출력\n",
    "print(welfare_2019['income19'].dtype)\n",
    "\n",
    "# 2023년 코드 (셀 10)\n",
    "# 월급 # 변수 타입 출력\n",
    "print(welfare_2023['income23'].dtype)"
   ]
  },
  {
   "cell_type": "code",
   "execution_count": 136,
   "id": "f6fbbf3e",
   "metadata": {},
   "outputs": [
    {
     "data": {
      "text/plain": [
       "<Axes: xlabel='income19', ylabel='Count'>"
      ]
     },
     "execution_count": 136,
     "metadata": {},
     "output_type": "execute_result"
    },
    {
     "data": {
      "image/png": "[encoded data removed]",
      "text/plain": [
       "<Figure size 640x480 with 1 Axes>"
      ]
     },
     "metadata": {},
     "output_type": "display_data"
    }
   ],
   "source": [
    "# 2019년 코드 (셀 11)\n",
    "sns.histplot(data=welfare_2019, x='income19')\n"
   ]
  },
  {
   "cell_type": "code",
   "execution_count": 137,
   "id": "0df1e218",
   "metadata": {},
   "outputs": [
    {
     "data": {
      "text/plain": [
       "<Axes: xlabel='income23', ylabel='Count'>"
      ]
     },
     "execution_count": 137,
     "metadata": {},
     "output_type": "execute_result"
    },
    {
     "data": {
      "image/png": "[encoded data removed]",
      "text/plain": [
       "<Figure size 640x480 with 1 Axes>"
      ]
     },
     "metadata": {},
     "output_type": "display_data"
    }
   ],
   "source": [
    "\n",
    "# 2023년 코드 (셀 11)\n",
    "sns.histplot(data=welfare_2023, x='income23')"
   ]
  },
  {
   "cell_type": "code",
   "execution_count": 138,
   "id": "3dfda33b",
   "metadata": {},
   "outputs": [],
   "source": [
    "\n",
    "# # 일반 박스플롯 그래프\n",
    "# # welfare_2019 = pd.read_csv('welfare_2019.csv')  # 2019년 데이터 로드\n",
    "# # welfare_2023 = pd.read_csv('welfare_2023.csv')  # 2023년 데이터 로드\n",
    "\n",
    "# # 2019년 수입 데이터 처리\n",
    "# income_2019 = welfare_2019['2019_income'].dropna()\n",
    "# income_2019_df = pd.DataFrame({\n",
    "#     'Income': income_2019,\n",
    "#     'Year': '2019'\n",
    "# })\n",
    "\n",
    "# # 2023년 수입 데이터 처리\n",
    "# income_2023 = welfare_2023['2023_income'].dropna()\n",
    "# income_2023_df = pd.DataFrame({\n",
    "#     'Income': income_2023,\n",
    "#     'Year': '2023'\n",
    "# })\n",
    "\n",
    "# # 두 데이터프레임 병합\n",
    "# comparison_df = pd.concat([income_2019_df, income_2023_df], ignore_index=True)\n",
    "\n",
    "# # 상자 그래프 생성\n",
    "# plt.figure(figsize=(12, 8))\n",
    "# sns.boxplot(data=comparison_df, x='Year', y='Income', palette='pastel')\n",
    "\n",
    "# # 차트 제목 및 레이블 설정\n",
    "# plt.title('Income Distribution Comparison for 2019 and 2023')\n",
    "# plt.xlabel('Year')\n",
    "# plt.ylabel('Income')\n",
    "\n",
    "# # 차트 표시\n",
    "# plt.show()\n"
   ]
  },
  {
   "cell_type": "code",
   "execution_count": 139,
   "id": "0029feb0",
   "metadata": {},
   "outputs": [
    {
     "name": "stderr",
     "output_type": "stream",
     "text": [
      "C:\\Users\\04-09\\AppData\\Local\\Temp\\ipykernel_5256\\3900638554.py:20: FutureWarning: \n",
      "\n",
      "Passing `palette` without assigning `hue` is deprecated and will be removed in v0.14.0. Assign the `x` variable to `hue` and set `legend=False` for the same effect.\n",
      "\n",
      "  ax = sns.boxplot(data=comparison_df, x='Year', y='Income', palette='pastel')\n"
     ]
    },
    {
     "data": {
      "image/png": "[encoded data removed]",
      "text/plain": [
       "<Figure size 1200x800 with 1 Axes>"
      ]
     },
     "metadata": {},
     "output_type": "display_data"
    }
   ],
   "source": [
    "# 2019년 수입 데이터 처리\n",
    "income_2019 = welfare_2019['income19'].dropna()\n",
    "income_2019_df = pd.DataFrame({\n",
    "    'Income': income_2019,\n",
    "    'Year': '2019'\n",
    "})\n",
    "\n",
    "# 2023년 수입 데이터 처리\n",
    "income_2023 = welfare_2023['income23'].dropna()\n",
    "income_2023_df = pd.DataFrame({\n",
    "    'Income': income_2023,\n",
    "    'Year': '2023'\n",
    "})\n",
    "\n",
    "# 두 데이터프레임 병합\n",
    "comparison_df = pd.concat([income_2019_df, income_2023_df], ignore_index=True)\n",
    "\n",
    "# 상자 그래프 생성\n",
    "plt.figure(figsize=(12, 8))\n",
    "ax = sns.boxplot(data=comparison_df, x='Year', y='Income', palette='pastel')\n",
    "\n",
    "# 중앙값, 최대값, 최소값 계산\n",
    "stats = comparison_df.groupby('Year')['Income'].agg(['median', 'max', 'min']).reset_index()\n",
    "\n",
    "# 데이터 테이블 생성\n",
    "table_data = []\n",
    "for _, row in stats.iterrows():\n",
    "    table_data.append([row['Year'], row['median'], row['max'], row['min']])\n",
    "\n",
    "# 데이터 테이블 추가\n",
    "table = plt.table(cellText=table_data,\n",
    "                  colLabels=['Year', 'Median', 'Max', 'Min'],\n",
    "                  cellLoc='center',\n",
    "                  loc='upper center',\n",
    "                  bbox=[0.15, -0.2, 0.7, 0.15])  # 위치 조정\n",
    "\n",
    "# 차트 제목 및 레이블 설정\n",
    "plt.title('2019년과 2023년의 평균임금 분포 비교', fontsize = 25)\n",
    "plt.xlabel('년도', fontsize = 15)\n",
    "plt.ylabel('평균임금', fontsize = 15)\n",
    "\n",
    "# 그래프 레이아웃 조정\n",
    "plt.tight_layout()\n",
    "\n",
    "# 차트 표시\n",
    "plt.show()"
   ]
  },
  {
   "cell_type": "code",
   "execution_count": 140,
   "id": "58f07348",
   "metadata": {},
   "outputs": [
    {
     "name": "stderr",
     "output_type": "stream",
     "text": [
      "C:\\Users\\04-09\\AppData\\Local\\Temp\\ipykernel_5256\\3732772269.py:20: FutureWarning: \n",
      "\n",
      "Passing `palette` without assigning `hue` is deprecated and will be removed in v0.14.0. Assign the `x` variable to `hue` and set `legend=False` for the same effect.\n",
      "\n",
      "  ax = sns.boxplot(data=comparison_df, x='Year', y='Income', palette='pastel')\n"
     ]
    },
    {
     "data": {
      "image/png": "[encoded data removed]",
      "text/plain": [
       "<Figure size 1200x800 with 1 Axes>"
      ]
     },
     "metadata": {},
     "output_type": "display_data"
    }
   ],
   "source": [
    "# 2019년 수입 데이터 처리\n",
    "income_2019 = welfare_2019['income19'].dropna()\n",
    "income_2019_df = pd.DataFrame({\n",
    "    'Income': income_2019,\n",
    "    'Year': '2019'\n",
    "})\n",
    "\n",
    "# 2023년 수입 데이터 처리\n",
    "income_2023 = welfare_2023['income23'].dropna()\n",
    "income_2023_df = pd.DataFrame({\n",
    "    'Income': income_2023,\n",
    "    'Year': '2023'\n",
    "})\n",
    "\n",
    "# 두 데이터프레임 병합\n",
    "comparison_df = pd.concat([income_2019_df, income_2023_df], ignore_index=True)\n",
    "\n",
    "# 상자 그래프 생성\n",
    "plt.figure(figsize=(12, 8))\n",
    "ax = sns.boxplot(data=comparison_df, x='Year', y='Income', palette='pastel')\n",
    "\n",
    "# 중앙값, 최대값, 최소값 및 Q1, Q3, IQR 계산\n",
    "for year in comparison_df['Year'].unique():\n",
    "    data = comparison_df[comparison_df['Year'] == year]['Income']\n",
    "    Q1 = data.quantile(0.25)\n",
    "    Q3 = data.quantile(0.75)\n",
    "    IQR = Q3 - Q1\n",
    "    median = data.median()\n",
    "    mean = data.mean()\n",
    "    min = row['min']\n",
    "    max = Q3 + 1.5 * IQR\n",
    "    \n",
    "    # 값 표시\n",
    "    ax.text(year, median, f'Median: {median:.2f}', color='black', ha='center', va='bottom', fontsize=10, weight='bold')\n",
    "    ax.text(year, mean, f'Mean: {mean:.2f}', color='red', ha='center', va='bottom', fontsize=10, weight='bold')\n",
    "\n",
    "    ax.text(year, min, f'Min: {min:.2f}', color='black', ha='center', va='bottom', fontsize=10, weight='bold')\n",
    "    ax.text(year, max, f'Max (Adj.): {max:.2f}', color='black', ha='center', va='bottom', fontsize=10, weight='bold')\n",
    "\n",
    "# 차트 제목 및 레이블 설정\n",
    "plt.title('2019년과 2023년의 평균임금 분포 비교', fontsize = 25)\n",
    "plt.xlabel('년도', fontsize = 15)\n",
    "plt.ylabel('평균임금', fontsize = 15)\n",
    "\n",
    "# 그래프의 그리드 선 추가\n",
    "ax.grid(True, linestyle='--', alpha=0.7)\n",
    "\n",
    "# 그래프 표시\n",
    "plt.show()"
   ]
  },
  {
   "cell_type": "code",
   "execution_count": 141,
   "id": "1657165e",
   "metadata": {},
   "outputs": [
    {
     "data": {
      "image/png": "[encoded data removed]",
      "text/plain": [
       "<Figure size 1400x700 with 2 Axes>"
      ]
     },
     "metadata": {},
     "output_type": "display_data"
    }
   ],
   "source": [
    "fig, axes = plt.subplots(1, 2, figsize=(14, 7))\n",
    "\n",
    "# 2019년 데이터의 바이올렛 플롯 생성\n",
    "sns.violinplot(data=welfare_2019, x=\"income19\", ax=axes[0], color='skyblue')\n",
    "axes[0].set_title(\"2019 Income\")\n",
    "axes[0].set_xlabel(\"2019 Income\")\n",
    "axes[0].set_ylabel(\"Density\")\n",
    "axes[0].grid(True, linestyle='--', alpha=0.7)  # 그리드선 추가\n",
    "\n",
    "# 중앙값 계산 및 표시\n",
    "median_2019 = welfare_2019['income19'].median()\n",
    "axes[0].axvline(median_2019, color='red', linestyle='--', linewidth=2)\n",
    "axes[0].text(median_2019, 0.02, f'Median: {median_2019:.2f}', color='red', \n",
    "             horizontalalignment='right', fontsize=10)\n",
    "\n",
    "# 2023년 데이터의 바이올렛 플롯 생성\n",
    "sns.violinplot(data=welfare_2023, x=\"income23\", ax=axes[1], color='orange')\n",
    "axes[1].set_title(\"2023 Income\")\n",
    "axes[1].set_xlabel(\"2023 Income\")\n",
    "axes[1].set_ylabel(\"Density\")\n",
    "axes[1].grid(True, linestyle='--', alpha=0.7)  # 그리드선 추가\n",
    "\n",
    "# 중앙값 계산 및 표시\n",
    "median_2023 = welfare_2023['income23'].median()\n",
    "axes[1].axvline(median_2023, color='red', linestyle='--', linewidth=2)\n",
    "axes[1].text(median_2023, 0.02, f'Median: {median_2023:.2f}', color='red', \n",
    "             horizontalalignment='right', fontsize=10)\n",
    "\n",
    "# 그래프 레이아웃 조정 및 표시\n",
    "plt.tight_layout()\n",
    "plt.show()"
   ]
  },
  {
   "cell_type": "code",
   "execution_count": 142,
   "id": "11590313",
   "metadata": {},
   "outputs": [
    {
     "name": "stdout",
     "output_type": "stream",
     "text": [
      "count    4534.000000\n",
      "mean      268.455007\n",
      "std       198.021206\n",
      "min         0.000000\n",
      "25%       150.000000\n",
      "50%       220.000000\n",
      "75%       345.750000\n",
      "max      1892.000000\n",
      "Name: income19, dtype: float64\n",
      "count    5630.000000\n",
      "mean      284.461989\n",
      "std       222.592542\n",
      "min         0.000000\n",
      "25%       133.250000\n",
      "50%       250.000000\n",
      "75%       375.000000\n",
      "max      2333.000000\n",
      "Name: income23, dtype: float64\n"
     ]
    }
   ],
   "source": [
    "# 2019년 코드 (셀 12)\n",
    "print(welfare_2019['income19'].describe()) #이상치확인\n",
    "\n",
    "# 2023년 코드 (셀 12)\n",
    "print(welfare_2023['income23'].describe()) #이상치확인"
   ]
  },
  {
   "cell_type": "code",
   "execution_count": 143,
   "id": "4f282162",
   "metadata": {},
   "outputs": [
    {
     "name": "stdout",
     "output_type": "stream",
     "text": [
      "9884\n",
      "10301\n"
     ]
    }
   ],
   "source": [
    "# 2019년 코드 (셀 13)\n",
    "print(welfare_2019['income19'].isna().sum()) # 결측지 확인\n",
    "\n",
    "# 2023년 코드 (셀 13)\n",
    "print(welfare_2023['income23'].isna().sum()) # 결측지 확인"
   ]
  },
  {
   "cell_type": "code",
   "execution_count": 144,
   "id": "cea2bda2",
   "metadata": {},
   "outputs": [
    {
     "name": "stdout",
     "output_type": "stream",
     "text": [
      "9884\n",
      "10301\n"
     ]
    }
   ],
   "source": [
    "# 2019년 코드 (셀 14)\n",
    "# 이상치 결측 처리\n",
    "welfare_2019['income19'] =np.where(welfare_2019['income19'] == 9999, np.nan,welfare_2019['income19'])\n",
    "# 결측치 확인\n",
    "print(welfare_2019['income19'].isna().sum())\n",
    "\n",
    "# 2023년 코드 (셀 14)\n",
    "# 이상치 결측 처리\n",
    "welfare_2023['income23'] =np.where(welfare_2023['income23'] == 9999, np.nan,welfare_2023['income23'])\n",
    "# 결측치 확인\n",
    "print(welfare_2023['income23'].isna().sum())"
   ]
  },
  {
   "cell_type": "code",
   "execution_count": 164,
   "id": "43d08754",
   "metadata": {},
   "outputs": [
    {
     "data": {
      "text/html": [
       "<div>\n",
       "<style scoped>\n",
       "    .dataframe tbody tr th:only-of-type {\n",
       "        vertical-align: middle;\n",
       "    }\n",
       "\n",
       "    .dataframe tbody tr th {\n",
       "        vertical-align: top;\n",
       "    }\n",
       "\n",
       "    .dataframe thead th {\n",
       "        text-align: right;\n",
       "    }\n",
       "</style>\n",
       "<table border=\"1\" class=\"dataframe\">\n",
       "  <thead>\n",
       "    <tr style=\"text-align: right;\">\n",
       "      <th></th>\n",
       "      <th>sex19</th>\n",
       "      <th>mean_income</th>\n",
       "    </tr>\n",
       "  </thead>\n",
       "  <tbody>\n",
       "    <tr>\n",
       "      <th>0</th>\n",
       "      <td>Female</td>\n",
       "      <td>3000.0</td>\n",
       "    </tr>\n",
       "    <tr>\n",
       "      <th>1</th>\n",
       "      <td>Male</td>\n",
       "      <td>3500.0</td>\n",
       "    </tr>\n",
       "  </tbody>\n",
       "</table>\n",
       "</div>"
      ],
      "text/plain": [
       "    sex19  mean_income\n",
       "0  Female       3000.0\n",
       "1    Male       3500.0"
      ]
     },
     "execution_count": 164,
     "metadata": {},
     "output_type": "execute_result"
    }
   ],
   "source": [
    "# 2019년 코드 (셀 15)\n",
    "# 성별 월급 평균\n",
    "sex_income19 =welfare_2019.dropna(subset=['income19']) \\\n",
    "                   .groupby('sex19',as_index=False) \\\n",
    "                   .agg(mean_income = ('income19', 'mean'))  \n",
    "sex_income19 \n"
   ]
  },
  {
   "cell_type": "code",
   "execution_count": 165,
   "id": "1138f9d1",
   "metadata": {},
   "outputs": [
    {
     "data": {
      "text/html": [
       "<div>\n",
       "<style scoped>\n",
       "    .dataframe tbody tr th:only-of-type {\n",
       "        vertical-align: middle;\n",
       "    }\n",
       "\n",
       "    .dataframe tbody tr th {\n",
       "        vertical-align: top;\n",
       "    }\n",
       "\n",
       "    .dataframe thead th {\n",
       "        text-align: right;\n",
       "    }\n",
       "</style>\n",
       "<table border=\"1\" class=\"dataframe\">\n",
       "  <thead>\n",
       "    <tr style=\"text-align: right;\">\n",
       "      <th></th>\n",
       "      <th>sex23</th>\n",
       "      <th>mean_income</th>\n",
       "    </tr>\n",
       "  </thead>\n",
       "  <tbody>\n",
       "    <tr>\n",
       "      <th>0</th>\n",
       "      <td>Female</td>\n",
       "      <td>3200.0</td>\n",
       "    </tr>\n",
       "    <tr>\n",
       "      <th>1</th>\n",
       "      <td>Male</td>\n",
       "      <td>4000.0</td>\n",
       "    </tr>\n",
       "  </tbody>\n",
       "</table>\n",
       "</div>"
      ],
      "text/plain": [
       "    sex23  mean_income\n",
       "0  Female       3200.0\n",
       "1    Male       4000.0"
      ]
     },
     "execution_count": 165,
     "metadata": {},
     "output_type": "execute_result"
    }
   ],
   "source": [
    "\n",
    "# 2023년 코드 (셀 15)\n",
    "# 성별 월급 평균\n",
    "sex_income23 =welfare_2023.dropna(subset=['income23']) \\\n",
    "                   .groupby('sex23',as_index=False) \\\n",
    "                   .agg(mean_income = ('income23', 'mean'))  \n",
    "sex_income23"
   ]
  },
  {
   "cell_type": "code",
   "execution_count": 147,
   "id": "ed5ff522",
   "metadata": {},
   "outputs": [],
   "source": [
    "\n",
    "# # 2023년 코드 (셀 15)\n",
    "# # 성별 월급 평균\n",
    "# # sex_income =welfare_2023.dropna(subset=['income23']) \\\n",
    "#                    .groupby('2023_sex',as_index=False) \\\n",
    "#                    .agg(mean_income = ('income23', 'mean'))  \n",
    "# sex_income   "
   ]
  },
  {
   "cell_type": "code",
   "execution_count": 162,
   "id": "f44a8ca7",
   "metadata": {},
   "outputs": [
    {
     "data": {
      "text/plain": [
       "<Axes: xlabel='sex23', ylabel='mean_income'>"
      ]
     },
     "execution_count": 162,
     "metadata": {},
     "output_type": "execute_result"
    },
    {
     "data": {
      "image/png": "[encoded data removed]",
      "text/plain": [
       "<Figure size 640x480 with 1 Axes>"
      ]
     },
     "metadata": {},
     "output_type": "display_data"
    }
   ],
   "source": [
    "# 2023년 코드 (셀 16)\n",
    "sns.barplot(data=sex_income, x= 'sex23', y='mean_income')\n"
   ]
  },
  {
   "cell_type": "code",
   "execution_count": 163,
   "id": "813e3d1a",
   "metadata": {},
   "outputs": [
    {
     "ename": "ValueError",
     "evalue": "Could not interpret value `sex19` for `x`. An entry with this name does not appear in `data`.",
     "output_type": "error",
     "traceback": [
      "\u001b[1;31m---------------------------------------------------------------------------\u001b[0m",
      "\u001b[1;31mValueError\u001b[0m                                Traceback (most recent call last)",
      "Cell \u001b[1;32mIn[163], line 2\u001b[0m\n\u001b[0;32m      1\u001b[0m \u001b[38;5;66;03m# 2019년 코드 (셀 16)\u001b[39;00m\n\u001b[1;32m----> 2\u001b[0m \u001b[43msns\u001b[49m\u001b[38;5;241;43m.\u001b[39;49m\u001b[43mbarplot\u001b[49m\u001b[43m(\u001b[49m\u001b[43mdata\u001b[49m\u001b[38;5;241;43m=\u001b[39;49m\u001b[43msex_income\u001b[49m\u001b[43m,\u001b[49m\u001b[43m \u001b[49m\u001b[43mx\u001b[49m\u001b[38;5;241;43m=\u001b[39;49m\u001b[38;5;124;43m'\u001b[39;49m\u001b[38;5;124;43msex19\u001b[39;49m\u001b[38;5;124;43m'\u001b[39;49m\u001b[43m,\u001b[49m\u001b[43m \u001b[49m\u001b[43my\u001b[49m\u001b[38;5;241;43m=\u001b[39;49m\u001b[38;5;124;43m'\u001b[39;49m\u001b[38;5;124;43mmean_income\u001b[39;49m\u001b[38;5;124;43m'\u001b[39;49m\u001b[43m)\u001b[49m\n",
      "File \u001b[1;32mc:\\Users\\04-09\\AppData\\Local\\Programs\\Python\\Python312\\Lib\\site-packages\\seaborn\\categorical.py:2341\u001b[0m, in \u001b[0;36mbarplot\u001b[1;34m(data, x, y, hue, order, hue_order, estimator, errorbar, n_boot, seed, units, weights, orient, color, palette, saturation, fill, hue_norm, width, dodge, gap, log_scale, native_scale, formatter, legend, capsize, err_kws, ci, errcolor, errwidth, ax, **kwargs)\u001b[0m\n\u001b[0;32m   2338\u001b[0m \u001b[38;5;28;01mif\u001b[39;00m estimator \u001b[38;5;129;01mis\u001b[39;00m \u001b[38;5;28mlen\u001b[39m:\n\u001b[0;32m   2339\u001b[0m     estimator \u001b[38;5;241m=\u001b[39m \u001b[38;5;124m\"\u001b[39m\u001b[38;5;124msize\u001b[39m\u001b[38;5;124m\"\u001b[39m\n\u001b[1;32m-> 2341\u001b[0m p \u001b[38;5;241m=\u001b[39m \u001b[43m_CategoricalAggPlotter\u001b[49m\u001b[43m(\u001b[49m\n\u001b[0;32m   2342\u001b[0m \u001b[43m    \u001b[49m\u001b[43mdata\u001b[49m\u001b[38;5;241;43m=\u001b[39;49m\u001b[43mdata\u001b[49m\u001b[43m,\u001b[49m\n\u001b[0;32m   2343\u001b[0m \u001b[43m    \u001b[49m\u001b[43mvariables\u001b[49m\u001b[38;5;241;43m=\u001b[39;49m\u001b[38;5;28;43mdict\u001b[39;49m\u001b[43m(\u001b[49m\u001b[43mx\u001b[49m\u001b[38;5;241;43m=\u001b[39;49m\u001b[43mx\u001b[49m\u001b[43m,\u001b[49m\u001b[43m \u001b[49m\u001b[43my\u001b[49m\u001b[38;5;241;43m=\u001b[39;49m\u001b[43my\u001b[49m\u001b[43m,\u001b[49m\u001b[43m \u001b[49m\u001b[43mhue\u001b[49m\u001b[38;5;241;43m=\u001b[39;49m\u001b[43mhue\u001b[49m\u001b[43m,\u001b[49m\u001b[43m \u001b[49m\u001b[43munits\u001b[49m\u001b[38;5;241;43m=\u001b[39;49m\u001b[43munits\u001b[49m\u001b[43m,\u001b[49m\u001b[43m \u001b[49m\u001b[43mweight\u001b[49m\u001b[38;5;241;43m=\u001b[39;49m\u001b[43mweights\u001b[49m\u001b[43m)\u001b[49m\u001b[43m,\u001b[49m\n\u001b[0;32m   2344\u001b[0m \u001b[43m    \u001b[49m\u001b[43morder\u001b[49m\u001b[38;5;241;43m=\u001b[39;49m\u001b[43morder\u001b[49m\u001b[43m,\u001b[49m\n\u001b[0;32m   2345\u001b[0m \u001b[43m    \u001b[49m\u001b[43morient\u001b[49m\u001b[38;5;241;43m=\u001b[39;49m\u001b[43morient\u001b[49m\u001b[43m,\u001b[49m\n\u001b[0;32m   2346\u001b[0m \u001b[43m    \u001b[49m\u001b[43mcolor\u001b[49m\u001b[38;5;241;43m=\u001b[39;49m\u001b[43mcolor\u001b[49m\u001b[43m,\u001b[49m\n\u001b[0;32m   2347\u001b[0m \u001b[43m    \u001b[49m\u001b[43mlegend\u001b[49m\u001b[38;5;241;43m=\u001b[39;49m\u001b[43mlegend\u001b[49m\u001b[43m,\u001b[49m\n\u001b[0;32m   2348\u001b[0m \u001b[43m\u001b[49m\u001b[43m)\u001b[49m\n\u001b[0;32m   2350\u001b[0m \u001b[38;5;28;01mif\u001b[39;00m ax \u001b[38;5;129;01mis\u001b[39;00m \u001b[38;5;28;01mNone\u001b[39;00m:\n\u001b[0;32m   2351\u001b[0m     ax \u001b[38;5;241m=\u001b[39m plt\u001b[38;5;241m.\u001b[39mgca()\n",
      "File \u001b[1;32mc:\\Users\\04-09\\AppData\\Local\\Programs\\Python\\Python312\\Lib\\site-packages\\seaborn\\categorical.py:67\u001b[0m, in \u001b[0;36m_CategoricalPlotter.__init__\u001b[1;34m(self, data, variables, order, orient, require_numeric, color, legend)\u001b[0m\n\u001b[0;32m     56\u001b[0m \u001b[38;5;28;01mdef\u001b[39;00m \u001b[38;5;21m__init__\u001b[39m(\n\u001b[0;32m     57\u001b[0m     \u001b[38;5;28mself\u001b[39m,\n\u001b[0;32m     58\u001b[0m     data\u001b[38;5;241m=\u001b[39m\u001b[38;5;28;01mNone\u001b[39;00m,\n\u001b[1;32m   (...)\u001b[0m\n\u001b[0;32m     64\u001b[0m     legend\u001b[38;5;241m=\u001b[39m\u001b[38;5;124m\"\u001b[39m\u001b[38;5;124mauto\u001b[39m\u001b[38;5;124m\"\u001b[39m,\n\u001b[0;32m     65\u001b[0m ):\n\u001b[1;32m---> 67\u001b[0m     \u001b[38;5;28;43msuper\u001b[39;49m\u001b[43m(\u001b[49m\u001b[43m)\u001b[49m\u001b[38;5;241;43m.\u001b[39;49m\u001b[38;5;21;43m__init__\u001b[39;49m\u001b[43m(\u001b[49m\u001b[43mdata\u001b[49m\u001b[38;5;241;43m=\u001b[39;49m\u001b[43mdata\u001b[49m\u001b[43m,\u001b[49m\u001b[43m \u001b[49m\u001b[43mvariables\u001b[49m\u001b[38;5;241;43m=\u001b[39;49m\u001b[43mvariables\u001b[49m\u001b[43m)\u001b[49m\n\u001b[0;32m     69\u001b[0m     \u001b[38;5;66;03m# This method takes care of some bookkeeping that is necessary because the\u001b[39;00m\n\u001b[0;32m     70\u001b[0m     \u001b[38;5;66;03m# original categorical plots (prior to the 2021 refactor) had some rules that\u001b[39;00m\n\u001b[0;32m     71\u001b[0m     \u001b[38;5;66;03m# don't fit exactly into VectorPlotter logic. It may be wise to have a second\u001b[39;00m\n\u001b[1;32m   (...)\u001b[0m\n\u001b[0;32m     76\u001b[0m     \u001b[38;5;66;03m# default VectorPlotter rules. If we do decide to make orient part of the\u001b[39;00m\n\u001b[0;32m     77\u001b[0m     \u001b[38;5;66;03m# _base variable assignment, we'll want to figure out how to express that.\u001b[39;00m\n\u001b[0;32m     78\u001b[0m     \u001b[38;5;28;01mif\u001b[39;00m \u001b[38;5;28mself\u001b[39m\u001b[38;5;241m.\u001b[39minput_format \u001b[38;5;241m==\u001b[39m \u001b[38;5;124m\"\u001b[39m\u001b[38;5;124mwide\u001b[39m\u001b[38;5;124m\"\u001b[39m \u001b[38;5;129;01mand\u001b[39;00m orient \u001b[38;5;129;01min\u001b[39;00m [\u001b[38;5;124m\"\u001b[39m\u001b[38;5;124mh\u001b[39m\u001b[38;5;124m\"\u001b[39m, \u001b[38;5;124m\"\u001b[39m\u001b[38;5;124my\u001b[39m\u001b[38;5;124m\"\u001b[39m]:\n",
      "File \u001b[1;32mc:\\Users\\04-09\\AppData\\Local\\Programs\\Python\\Python312\\Lib\\site-packages\\seaborn\\_base.py:634\u001b[0m, in \u001b[0;36mVectorPlotter.__init__\u001b[1;34m(self, data, variables)\u001b[0m\n\u001b[0;32m    629\u001b[0m \u001b[38;5;66;03m# var_ordered is relevant only for categorical axis variables, and may\u001b[39;00m\n\u001b[0;32m    630\u001b[0m \u001b[38;5;66;03m# be better handled by an internal axis information object that tracks\u001b[39;00m\n\u001b[0;32m    631\u001b[0m \u001b[38;5;66;03m# such information and is set up by the scale_* methods. The analogous\u001b[39;00m\n\u001b[0;32m    632\u001b[0m \u001b[38;5;66;03m# information for numeric axes would be information about log scales.\u001b[39;00m\n\u001b[0;32m    633\u001b[0m \u001b[38;5;28mself\u001b[39m\u001b[38;5;241m.\u001b[39m_var_ordered \u001b[38;5;241m=\u001b[39m {\u001b[38;5;124m\"\u001b[39m\u001b[38;5;124mx\u001b[39m\u001b[38;5;124m\"\u001b[39m: \u001b[38;5;28;01mFalse\u001b[39;00m, \u001b[38;5;124m\"\u001b[39m\u001b[38;5;124my\u001b[39m\u001b[38;5;124m\"\u001b[39m: \u001b[38;5;28;01mFalse\u001b[39;00m}  \u001b[38;5;66;03m# alt., used DefaultDict\u001b[39;00m\n\u001b[1;32m--> 634\u001b[0m \u001b[38;5;28;43mself\u001b[39;49m\u001b[38;5;241;43m.\u001b[39;49m\u001b[43massign_variables\u001b[49m\u001b[43m(\u001b[49m\u001b[43mdata\u001b[49m\u001b[43m,\u001b[49m\u001b[43m \u001b[49m\u001b[43mvariables\u001b[49m\u001b[43m)\u001b[49m\n\u001b[0;32m    636\u001b[0m \u001b[38;5;66;03m# TODO Lots of tests assume that these are called to initialize the\u001b[39;00m\n\u001b[0;32m    637\u001b[0m \u001b[38;5;66;03m# mappings to default values on class initialization. I'd prefer to\u001b[39;00m\n\u001b[0;32m    638\u001b[0m \u001b[38;5;66;03m# move away from that and only have a mapping when explicitly called.\u001b[39;00m\n\u001b[0;32m    639\u001b[0m \u001b[38;5;28;01mfor\u001b[39;00m var \u001b[38;5;129;01min\u001b[39;00m [\u001b[38;5;124m\"\u001b[39m\u001b[38;5;124mhue\u001b[39m\u001b[38;5;124m\"\u001b[39m, \u001b[38;5;124m\"\u001b[39m\u001b[38;5;124msize\u001b[39m\u001b[38;5;124m\"\u001b[39m, \u001b[38;5;124m\"\u001b[39m\u001b[38;5;124mstyle\u001b[39m\u001b[38;5;124m\"\u001b[39m]:\n",
      "File \u001b[1;32mc:\\Users\\04-09\\AppData\\Local\\Programs\\Python\\Python312\\Lib\\site-packages\\seaborn\\_base.py:679\u001b[0m, in \u001b[0;36mVectorPlotter.assign_variables\u001b[1;34m(self, data, variables)\u001b[0m\n\u001b[0;32m    674\u001b[0m \u001b[38;5;28;01melse\u001b[39;00m:\n\u001b[0;32m    675\u001b[0m     \u001b[38;5;66;03m# When dealing with long-form input, use the newer PlotData\u001b[39;00m\n\u001b[0;32m    676\u001b[0m     \u001b[38;5;66;03m# object (internal but introduced for the objects interface)\u001b[39;00m\n\u001b[0;32m    677\u001b[0m     \u001b[38;5;66;03m# to centralize / standardize data consumption logic.\u001b[39;00m\n\u001b[0;32m    678\u001b[0m     \u001b[38;5;28mself\u001b[39m\u001b[38;5;241m.\u001b[39minput_format \u001b[38;5;241m=\u001b[39m \u001b[38;5;124m\"\u001b[39m\u001b[38;5;124mlong\u001b[39m\u001b[38;5;124m\"\u001b[39m\n\u001b[1;32m--> 679\u001b[0m     plot_data \u001b[38;5;241m=\u001b[39m \u001b[43mPlotData\u001b[49m\u001b[43m(\u001b[49m\u001b[43mdata\u001b[49m\u001b[43m,\u001b[49m\u001b[43m \u001b[49m\u001b[43mvariables\u001b[49m\u001b[43m)\u001b[49m\n\u001b[0;32m    680\u001b[0m     frame \u001b[38;5;241m=\u001b[39m plot_data\u001b[38;5;241m.\u001b[39mframe\n\u001b[0;32m    681\u001b[0m     names \u001b[38;5;241m=\u001b[39m plot_data\u001b[38;5;241m.\u001b[39mnames\n",
      "File \u001b[1;32mc:\\Users\\04-09\\AppData\\Local\\Programs\\Python\\Python312\\Lib\\site-packages\\seaborn\\_core\\data.py:58\u001b[0m, in \u001b[0;36mPlotData.__init__\u001b[1;34m(self, data, variables)\u001b[0m\n\u001b[0;32m     51\u001b[0m \u001b[38;5;28;01mdef\u001b[39;00m \u001b[38;5;21m__init__\u001b[39m(\n\u001b[0;32m     52\u001b[0m     \u001b[38;5;28mself\u001b[39m,\n\u001b[0;32m     53\u001b[0m     data: DataSource,\n\u001b[0;32m     54\u001b[0m     variables: \u001b[38;5;28mdict\u001b[39m[\u001b[38;5;28mstr\u001b[39m, VariableSpec],\n\u001b[0;32m     55\u001b[0m ):\n\u001b[0;32m     57\u001b[0m     data \u001b[38;5;241m=\u001b[39m handle_data_source(data)\n\u001b[1;32m---> 58\u001b[0m     frame, names, ids \u001b[38;5;241m=\u001b[39m \u001b[38;5;28;43mself\u001b[39;49m\u001b[38;5;241;43m.\u001b[39;49m\u001b[43m_assign_variables\u001b[49m\u001b[43m(\u001b[49m\u001b[43mdata\u001b[49m\u001b[43m,\u001b[49m\u001b[43m \u001b[49m\u001b[43mvariables\u001b[49m\u001b[43m)\u001b[49m\n\u001b[0;32m     60\u001b[0m     \u001b[38;5;28mself\u001b[39m\u001b[38;5;241m.\u001b[39mframe \u001b[38;5;241m=\u001b[39m frame\n\u001b[0;32m     61\u001b[0m     \u001b[38;5;28mself\u001b[39m\u001b[38;5;241m.\u001b[39mnames \u001b[38;5;241m=\u001b[39m names\n",
      "File \u001b[1;32mc:\\Users\\04-09\\AppData\\Local\\Programs\\Python\\Python312\\Lib\\site-packages\\seaborn\\_core\\data.py:232\u001b[0m, in \u001b[0;36mPlotData._assign_variables\u001b[1;34m(self, data, variables)\u001b[0m\n\u001b[0;32m    230\u001b[0m     \u001b[38;5;28;01melse\u001b[39;00m:\n\u001b[0;32m    231\u001b[0m         err \u001b[38;5;241m+\u001b[39m\u001b[38;5;241m=\u001b[39m \u001b[38;5;124m\"\u001b[39m\u001b[38;5;124mAn entry with this name does not appear in `data`.\u001b[39m\u001b[38;5;124m\"\u001b[39m\n\u001b[1;32m--> 232\u001b[0m     \u001b[38;5;28;01mraise\u001b[39;00m \u001b[38;5;167;01mValueError\u001b[39;00m(err)\n\u001b[0;32m    234\u001b[0m \u001b[38;5;28;01melse\u001b[39;00m:\n\u001b[0;32m    235\u001b[0m \n\u001b[0;32m    236\u001b[0m     \u001b[38;5;66;03m# Otherwise, assume the value somehow represents data\u001b[39;00m\n\u001b[0;32m    237\u001b[0m \n\u001b[0;32m    238\u001b[0m     \u001b[38;5;66;03m# Ignore empty data structures\u001b[39;00m\n\u001b[0;32m    239\u001b[0m     \u001b[38;5;28;01mif\u001b[39;00m \u001b[38;5;28misinstance\u001b[39m(val, Sized) \u001b[38;5;129;01mand\u001b[39;00m \u001b[38;5;28mlen\u001b[39m(val) \u001b[38;5;241m==\u001b[39m \u001b[38;5;241m0\u001b[39m:\n",
      "\u001b[1;31mValueError\u001b[0m: Could not interpret value `sex19` for `x`. An entry with this name does not appear in `data`."
     ]
    }
   ],
   "source": [
    "\n",
    "# 2019년 코드 (셀 16)\n",
    "sns.barplot(data=sex_income, x='sex19', y='mean_income')"
   ]
  },
  {
   "cell_type": "markdown",
   "id": "f9dbda69",
   "metadata": {},
   "source": [
    "Comparison of Average Income by Gender in 2019 and 2023"
   ]
  },
  {
   "cell_type": "code",
   "execution_count": 156,
   "id": "613bc487",
   "metadata": {},
   "outputs": [
    {
     "data": {
      "image/png": "[encoded data removed]",
      "text/plain": [
       "<Figure size 1000x600 with 1 Axes>"
      ]
     },
     "metadata": {},
     "output_type": "display_data"
    }
   ],
   "source": [
    "import matplotlib.pyplot as plt\n",
    "import pandas as pd\n",
    "\n",
    "# Example data for 2019 and 2023 mean incomes by sex\n",
    "data_2019 = {'sex19': ['Male', 'Female'], 'mean_income': [349.037571, 186.293096]}\n",
    "data_2023 = {'sex23': ['Male', 'Female'], 'mean_income': [373.581565, 200.327693]}\n",
    "\n",
    "# Creating DataFrames\n",
    "df_2019 = pd.DataFrame(data_2019)\n",
    "df_2023 = pd.DataFrame(data_2023)\n",
    "\n",
    "# Merging the two dataframes on the sex columns\n",
    "df_merged = pd.merge(df_2019, df_2023, left_on='sex19', right_on='sex23')\n",
    "\n",
    "# Plotting the bar chart\n",
    "plt.figure(figsize=(10, 6))\n",
    "\n",
    "bar_width = 0.35\n",
    "index = range(len(df_merged))\n",
    "\n",
    "plt.bar(index, df_merged['mean_income_x'], bar_width, label='2019', color='b')\n",
    "plt.bar([i + bar_width for i in index], df_merged['mean_income_y'], bar_width, label='2023', color='g')\n",
    "\n",
    "plt.xlabel('Gender')\n",
    "plt.ylabel('Mean Income')\n",
    "plt.title('Comparison of Mean Income by Gender (2019 vs 2023)')\n",
    "plt.xticks([i + bar_width/2 for i in index], df_merged['sex19'])\n",
    "plt.legend()\n",
    "\n",
    "plt.tight_layout()\n",
    "plt.show()\n",
    "\n"
   ]
  },
  {
   "cell_type": "code",
   "execution_count": 151,
   "id": "3c93c3fc",
   "metadata": {},
   "outputs": [
    {
     "ename": "ValueError",
     "evalue": "Could not interpret value `Mean_Income` for `y`. An entry with this name does not appear in `data`.",
     "output_type": "error",
     "traceback": [
      "\u001b[1;31m---------------------------------------------------------------------------\u001b[0m",
      "\u001b[1;31mValueError\u001b[0m                                Traceback (most recent call last)",
      "Cell \u001b[1;32mIn[151], line 16\u001b[0m\n\u001b[0;32m     14\u001b[0m \u001b[38;5;66;03m# 차트 생성\u001b[39;00m\n\u001b[0;32m     15\u001b[0m plt\u001b[38;5;241m.\u001b[39mfigure(figsize\u001b[38;5;241m=\u001b[39m(\u001b[38;5;241m10\u001b[39m, \u001b[38;5;241m6\u001b[39m))\n\u001b[1;32m---> 16\u001b[0m \u001b[43msns\u001b[49m\u001b[38;5;241;43m.\u001b[39;49m\u001b[43mbarplot\u001b[49m\u001b[43m(\u001b[49m\u001b[43mdata\u001b[49m\u001b[38;5;241;43m=\u001b[39;49m\u001b[43mcomparison_df\u001b[49m\u001b[43m,\u001b[49m\u001b[43m \u001b[49m\u001b[43mx\u001b[49m\u001b[38;5;241;43m=\u001b[39;49m\u001b[38;5;124;43m'\u001b[39;49m\u001b[38;5;124;43mYear\u001b[39;49m\u001b[38;5;124;43m'\u001b[39;49m\u001b[43m,\u001b[49m\u001b[43m \u001b[49m\u001b[43my\u001b[49m\u001b[38;5;241;43m=\u001b[39;49m\u001b[38;5;124;43m'\u001b[39;49m\u001b[38;5;124;43mMean_Income\u001b[39;49m\u001b[38;5;124;43m'\u001b[39;49m\u001b[43m,\u001b[49m\u001b[43m \u001b[49m\u001b[43mhue\u001b[49m\u001b[38;5;241;43m=\u001b[39;49m\u001b[38;5;124;43m'\u001b[39;49m\u001b[38;5;124;43mSex\u001b[39;49m\u001b[38;5;124;43m'\u001b[39;49m\u001b[43m,\u001b[49m\u001b[43m \u001b[49m\u001b[43mpalette\u001b[49m\u001b[38;5;241;43m=\u001b[39;49m\u001b[38;5;124;43m'\u001b[39;49m\u001b[38;5;124;43mpastel\u001b[39;49m\u001b[38;5;124;43m'\u001b[39;49m\u001b[43m)\u001b[49m\n\u001b[0;32m     18\u001b[0m \u001b[38;5;66;03m# 차트 제목 및 레이블 설정\u001b[39;00m\n\u001b[0;32m     19\u001b[0m plt\u001b[38;5;241m.\u001b[39mtitle(\u001b[38;5;124m'\u001b[39m\u001b[38;5;124mComparison of Average Income by Gender in 2019 and 2023\u001b[39m\u001b[38;5;124m'\u001b[39m)\n",
      "File \u001b[1;32mc:\\Users\\04-09\\AppData\\Local\\Programs\\Python\\Python312\\Lib\\site-packages\\seaborn\\categorical.py:2341\u001b[0m, in \u001b[0;36mbarplot\u001b[1;34m(data, x, y, hue, order, hue_order, estimator, errorbar, n_boot, seed, units, weights, orient, color, palette, saturation, fill, hue_norm, width, dodge, gap, log_scale, native_scale, formatter, legend, capsize, err_kws, ci, errcolor, errwidth, ax, **kwargs)\u001b[0m\n\u001b[0;32m   2338\u001b[0m \u001b[38;5;28;01mif\u001b[39;00m estimator \u001b[38;5;129;01mis\u001b[39;00m \u001b[38;5;28mlen\u001b[39m:\n\u001b[0;32m   2339\u001b[0m     estimator \u001b[38;5;241m=\u001b[39m \u001b[38;5;124m\"\u001b[39m\u001b[38;5;124msize\u001b[39m\u001b[38;5;124m\"\u001b[39m\n\u001b[1;32m-> 2341\u001b[0m p \u001b[38;5;241m=\u001b[39m \u001b[43m_CategoricalAggPlotter\u001b[49m\u001b[43m(\u001b[49m\n\u001b[0;32m   2342\u001b[0m \u001b[43m    \u001b[49m\u001b[43mdata\u001b[49m\u001b[38;5;241;43m=\u001b[39;49m\u001b[43mdata\u001b[49m\u001b[43m,\u001b[49m\n\u001b[0;32m   2343\u001b[0m \u001b[43m    \u001b[49m\u001b[43mvariables\u001b[49m\u001b[38;5;241;43m=\u001b[39;49m\u001b[38;5;28;43mdict\u001b[39;49m\u001b[43m(\u001b[49m\u001b[43mx\u001b[49m\u001b[38;5;241;43m=\u001b[39;49m\u001b[43mx\u001b[49m\u001b[43m,\u001b[49m\u001b[43m \u001b[49m\u001b[43my\u001b[49m\u001b[38;5;241;43m=\u001b[39;49m\u001b[43my\u001b[49m\u001b[43m,\u001b[49m\u001b[43m \u001b[49m\u001b[43mhue\u001b[49m\u001b[38;5;241;43m=\u001b[39;49m\u001b[43mhue\u001b[49m\u001b[43m,\u001b[49m\u001b[43m \u001b[49m\u001b[43munits\u001b[49m\u001b[38;5;241;43m=\u001b[39;49m\u001b[43munits\u001b[49m\u001b[43m,\u001b[49m\u001b[43m \u001b[49m\u001b[43mweight\u001b[49m\u001b[38;5;241;43m=\u001b[39;49m\u001b[43mweights\u001b[49m\u001b[43m)\u001b[49m\u001b[43m,\u001b[49m\n\u001b[0;32m   2344\u001b[0m \u001b[43m    \u001b[49m\u001b[43morder\u001b[49m\u001b[38;5;241;43m=\u001b[39;49m\u001b[43morder\u001b[49m\u001b[43m,\u001b[49m\n\u001b[0;32m   2345\u001b[0m \u001b[43m    \u001b[49m\u001b[43morient\u001b[49m\u001b[38;5;241;43m=\u001b[39;49m\u001b[43morient\u001b[49m\u001b[43m,\u001b[49m\n\u001b[0;32m   2346\u001b[0m \u001b[43m    \u001b[49m\u001b[43mcolor\u001b[49m\u001b[38;5;241;43m=\u001b[39;49m\u001b[43mcolor\u001b[49m\u001b[43m,\u001b[49m\n\u001b[0;32m   2347\u001b[0m \u001b[43m    \u001b[49m\u001b[43mlegend\u001b[49m\u001b[38;5;241;43m=\u001b[39;49m\u001b[43mlegend\u001b[49m\u001b[43m,\u001b[49m\n\u001b[0;32m   2348\u001b[0m \u001b[43m\u001b[49m\u001b[43m)\u001b[49m\n\u001b[0;32m   2350\u001b[0m \u001b[38;5;28;01mif\u001b[39;00m ax \u001b[38;5;129;01mis\u001b[39;00m \u001b[38;5;28;01mNone\u001b[39;00m:\n\u001b[0;32m   2351\u001b[0m     ax \u001b[38;5;241m=\u001b[39m plt\u001b[38;5;241m.\u001b[39mgca()\n",
      "File \u001b[1;32mc:\\Users\\04-09\\AppData\\Local\\Programs\\Python\\Python312\\Lib\\site-packages\\seaborn\\categorical.py:67\u001b[0m, in \u001b[0;36m_CategoricalPlotter.__init__\u001b[1;34m(self, data, variables, order, orient, require_numeric, color, legend)\u001b[0m\n\u001b[0;32m     56\u001b[0m \u001b[38;5;28;01mdef\u001b[39;00m \u001b[38;5;21m__init__\u001b[39m(\n\u001b[0;32m     57\u001b[0m     \u001b[38;5;28mself\u001b[39m,\n\u001b[0;32m     58\u001b[0m     data\u001b[38;5;241m=\u001b[39m\u001b[38;5;28;01mNone\u001b[39;00m,\n\u001b[1;32m   (...)\u001b[0m\n\u001b[0;32m     64\u001b[0m     legend\u001b[38;5;241m=\u001b[39m\u001b[38;5;124m\"\u001b[39m\u001b[38;5;124mauto\u001b[39m\u001b[38;5;124m\"\u001b[39m,\n\u001b[0;32m     65\u001b[0m ):\n\u001b[1;32m---> 67\u001b[0m     \u001b[38;5;28;43msuper\u001b[39;49m\u001b[43m(\u001b[49m\u001b[43m)\u001b[49m\u001b[38;5;241;43m.\u001b[39;49m\u001b[38;5;21;43m__init__\u001b[39;49m\u001b[43m(\u001b[49m\u001b[43mdata\u001b[49m\u001b[38;5;241;43m=\u001b[39;49m\u001b[43mdata\u001b[49m\u001b[43m,\u001b[49m\u001b[43m \u001b[49m\u001b[43mvariables\u001b[49m\u001b[38;5;241;43m=\u001b[39;49m\u001b[43mvariables\u001b[49m\u001b[43m)\u001b[49m\n\u001b[0;32m     69\u001b[0m     \u001b[38;5;66;03m# This method takes care of some bookkeeping that is necessary because the\u001b[39;00m\n\u001b[0;32m     70\u001b[0m     \u001b[38;5;66;03m# original categorical plots (prior to the 2021 refactor) had some rules that\u001b[39;00m\n\u001b[0;32m     71\u001b[0m     \u001b[38;5;66;03m# don't fit exactly into VectorPlotter logic. It may be wise to have a second\u001b[39;00m\n\u001b[1;32m   (...)\u001b[0m\n\u001b[0;32m     76\u001b[0m     \u001b[38;5;66;03m# default VectorPlotter rules. If we do decide to make orient part of the\u001b[39;00m\n\u001b[0;32m     77\u001b[0m     \u001b[38;5;66;03m# _base variable assignment, we'll want to figure out how to express that.\u001b[39;00m\n\u001b[0;32m     78\u001b[0m     \u001b[38;5;28;01mif\u001b[39;00m \u001b[38;5;28mself\u001b[39m\u001b[38;5;241m.\u001b[39minput_format \u001b[38;5;241m==\u001b[39m \u001b[38;5;124m\"\u001b[39m\u001b[38;5;124mwide\u001b[39m\u001b[38;5;124m\"\u001b[39m \u001b[38;5;129;01mand\u001b[39;00m orient \u001b[38;5;129;01min\u001b[39;00m [\u001b[38;5;124m\"\u001b[39m\u001b[38;5;124mh\u001b[39m\u001b[38;5;124m\"\u001b[39m, \u001b[38;5;124m\"\u001b[39m\u001b[38;5;124my\u001b[39m\u001b[38;5;124m\"\u001b[39m]:\n",
      "File \u001b[1;32mc:\\Users\\04-09\\AppData\\Local\\Programs\\Python\\Python312\\Lib\\site-packages\\seaborn\\_base.py:634\u001b[0m, in \u001b[0;36mVectorPlotter.__init__\u001b[1;34m(self, data, variables)\u001b[0m\n\u001b[0;32m    629\u001b[0m \u001b[38;5;66;03m# var_ordered is relevant only for categorical axis variables, and may\u001b[39;00m\n\u001b[0;32m    630\u001b[0m \u001b[38;5;66;03m# be better handled by an internal axis information object that tracks\u001b[39;00m\n\u001b[0;32m    631\u001b[0m \u001b[38;5;66;03m# such information and is set up by the scale_* methods. The analogous\u001b[39;00m\n\u001b[0;32m    632\u001b[0m \u001b[38;5;66;03m# information for numeric axes would be information about log scales.\u001b[39;00m\n\u001b[0;32m    633\u001b[0m \u001b[38;5;28mself\u001b[39m\u001b[38;5;241m.\u001b[39m_var_ordered \u001b[38;5;241m=\u001b[39m {\u001b[38;5;124m\"\u001b[39m\u001b[38;5;124mx\u001b[39m\u001b[38;5;124m\"\u001b[39m: \u001b[38;5;28;01mFalse\u001b[39;00m, \u001b[38;5;124m\"\u001b[39m\u001b[38;5;124my\u001b[39m\u001b[38;5;124m\"\u001b[39m: \u001b[38;5;28;01mFalse\u001b[39;00m}  \u001b[38;5;66;03m# alt., used DefaultDict\u001b[39;00m\n\u001b[1;32m--> 634\u001b[0m \u001b[38;5;28;43mself\u001b[39;49m\u001b[38;5;241;43m.\u001b[39;49m\u001b[43massign_variables\u001b[49m\u001b[43m(\u001b[49m\u001b[43mdata\u001b[49m\u001b[43m,\u001b[49m\u001b[43m \u001b[49m\u001b[43mvariables\u001b[49m\u001b[43m)\u001b[49m\n\u001b[0;32m    636\u001b[0m \u001b[38;5;66;03m# TODO Lots of tests assume that these are called to initialize the\u001b[39;00m\n\u001b[0;32m    637\u001b[0m \u001b[38;5;66;03m# mappings to default values on class initialization. I'd prefer to\u001b[39;00m\n\u001b[0;32m    638\u001b[0m \u001b[38;5;66;03m# move away from that and only have a mapping when explicitly called.\u001b[39;00m\n\u001b[0;32m    639\u001b[0m \u001b[38;5;28;01mfor\u001b[39;00m var \u001b[38;5;129;01min\u001b[39;00m [\u001b[38;5;124m\"\u001b[39m\u001b[38;5;124mhue\u001b[39m\u001b[38;5;124m\"\u001b[39m, \u001b[38;5;124m\"\u001b[39m\u001b[38;5;124msize\u001b[39m\u001b[38;5;124m\"\u001b[39m, \u001b[38;5;124m\"\u001b[39m\u001b[38;5;124mstyle\u001b[39m\u001b[38;5;124m\"\u001b[39m]:\n",
      "File \u001b[1;32mc:\\Users\\04-09\\AppData\\Local\\Programs\\Python\\Python312\\Lib\\site-packages\\seaborn\\_base.py:679\u001b[0m, in \u001b[0;36mVectorPlotter.assign_variables\u001b[1;34m(self, data, variables)\u001b[0m\n\u001b[0;32m    674\u001b[0m \u001b[38;5;28;01melse\u001b[39;00m:\n\u001b[0;32m    675\u001b[0m     \u001b[38;5;66;03m# When dealing with long-form input, use the newer PlotData\u001b[39;00m\n\u001b[0;32m    676\u001b[0m     \u001b[38;5;66;03m# object (internal but introduced for the objects interface)\u001b[39;00m\n\u001b[0;32m    677\u001b[0m     \u001b[38;5;66;03m# to centralize / standardize data consumption logic.\u001b[39;00m\n\u001b[0;32m    678\u001b[0m     \u001b[38;5;28mself\u001b[39m\u001b[38;5;241m.\u001b[39minput_format \u001b[38;5;241m=\u001b[39m \u001b[38;5;124m\"\u001b[39m\u001b[38;5;124mlong\u001b[39m\u001b[38;5;124m\"\u001b[39m\n\u001b[1;32m--> 679\u001b[0m     plot_data \u001b[38;5;241m=\u001b[39m \u001b[43mPlotData\u001b[49m\u001b[43m(\u001b[49m\u001b[43mdata\u001b[49m\u001b[43m,\u001b[49m\u001b[43m \u001b[49m\u001b[43mvariables\u001b[49m\u001b[43m)\u001b[49m\n\u001b[0;32m    680\u001b[0m     frame \u001b[38;5;241m=\u001b[39m plot_data\u001b[38;5;241m.\u001b[39mframe\n\u001b[0;32m    681\u001b[0m     names \u001b[38;5;241m=\u001b[39m plot_data\u001b[38;5;241m.\u001b[39mnames\n",
      "File \u001b[1;32mc:\\Users\\04-09\\AppData\\Local\\Programs\\Python\\Python312\\Lib\\site-packages\\seaborn\\_core\\data.py:58\u001b[0m, in \u001b[0;36mPlotData.__init__\u001b[1;34m(self, data, variables)\u001b[0m\n\u001b[0;32m     51\u001b[0m \u001b[38;5;28;01mdef\u001b[39;00m \u001b[38;5;21m__init__\u001b[39m(\n\u001b[0;32m     52\u001b[0m     \u001b[38;5;28mself\u001b[39m,\n\u001b[0;32m     53\u001b[0m     data: DataSource,\n\u001b[0;32m     54\u001b[0m     variables: \u001b[38;5;28mdict\u001b[39m[\u001b[38;5;28mstr\u001b[39m, VariableSpec],\n\u001b[0;32m     55\u001b[0m ):\n\u001b[0;32m     57\u001b[0m     data \u001b[38;5;241m=\u001b[39m handle_data_source(data)\n\u001b[1;32m---> 58\u001b[0m     frame, names, ids \u001b[38;5;241m=\u001b[39m \u001b[38;5;28;43mself\u001b[39;49m\u001b[38;5;241;43m.\u001b[39;49m\u001b[43m_assign_variables\u001b[49m\u001b[43m(\u001b[49m\u001b[43mdata\u001b[49m\u001b[43m,\u001b[49m\u001b[43m \u001b[49m\u001b[43mvariables\u001b[49m\u001b[43m)\u001b[49m\n\u001b[0;32m     60\u001b[0m     \u001b[38;5;28mself\u001b[39m\u001b[38;5;241m.\u001b[39mframe \u001b[38;5;241m=\u001b[39m frame\n\u001b[0;32m     61\u001b[0m     \u001b[38;5;28mself\u001b[39m\u001b[38;5;241m.\u001b[39mnames \u001b[38;5;241m=\u001b[39m names\n",
      "File \u001b[1;32mc:\\Users\\04-09\\AppData\\Local\\Programs\\Python\\Python312\\Lib\\site-packages\\seaborn\\_core\\data.py:232\u001b[0m, in \u001b[0;36mPlotData._assign_variables\u001b[1;34m(self, data, variables)\u001b[0m\n\u001b[0;32m    230\u001b[0m     \u001b[38;5;28;01melse\u001b[39;00m:\n\u001b[0;32m    231\u001b[0m         err \u001b[38;5;241m+\u001b[39m\u001b[38;5;241m=\u001b[39m \u001b[38;5;124m\"\u001b[39m\u001b[38;5;124mAn entry with this name does not appear in `data`.\u001b[39m\u001b[38;5;124m\"\u001b[39m\n\u001b[1;32m--> 232\u001b[0m     \u001b[38;5;28;01mraise\u001b[39;00m \u001b[38;5;167;01mValueError\u001b[39;00m(err)\n\u001b[0;32m    234\u001b[0m \u001b[38;5;28;01melse\u001b[39;00m:\n\u001b[0;32m    235\u001b[0m \n\u001b[0;32m    236\u001b[0m     \u001b[38;5;66;03m# Otherwise, assume the value somehow represents data\u001b[39;00m\n\u001b[0;32m    237\u001b[0m \n\u001b[0;32m    238\u001b[0m     \u001b[38;5;66;03m# Ignore empty data structures\u001b[39;00m\n\u001b[0;32m    239\u001b[0m     \u001b[38;5;28;01mif\u001b[39;00m \u001b[38;5;28misinstance\u001b[39m(val, Sized) \u001b[38;5;129;01mand\u001b[39;00m \u001b[38;5;28mlen\u001b[39m(val) \u001b[38;5;241m==\u001b[39m \u001b[38;5;241m0\u001b[39m:\n",
      "\u001b[1;31mValueError\u001b[0m: Could not interpret value `Mean_Income` for `y`. An entry with this name does not appear in `data`."
     ]
    },
    {
     "data": {
      "text/plain": [
       "<Figure size 1000x600 with 0 Axes>"
      ]
     },
     "metadata": {},
     "output_type": "display_data"
    }
   ],
   "source": [
    "# 2019년 성별별 평균 수입 계산\n",
    "mean_income_2019 = welfare_2019.groupby('sex19')['income19'].mean().reset_index()\n",
    "mean_income_2019.columns = ['Sex19', 'Mean_Income19']\n",
    "mean_income_2019['Year'] = '2019'\n",
    "\n",
    "# 2023년 성별별 평균 수입 계산\n",
    "mean_income_2023 = welfare_2023.groupby('sex23')['income23'].mean().reset_index()\n",
    "mean_income_2023.columns = ['Sex23', 'Mean_Income23']\n",
    "mean_income_2023['Year'] = '2023'\n",
    "\n",
    "# 두 데이터프레임 병합\n",
    "comparison_df = pd.concat([mean_income_2019, mean_income_2023], ignore_index=True)\n",
    "\n",
    "# 차트 생성\n",
    "plt.figure(figsize=(10, 6))\n",
    "sns.barplot(data=comparison_df, x='Year', y='Mean_Income', hue='Sex', palette='pastel')\n",
    "\n",
    "# 차트 제목 및 레이블 설정\n",
    "plt.title('Comparison of Average Income by Gender in 2019 and 2023')\n",
    "plt.xlabel('Year')\n",
    "plt.ylabel('Mean Income')\n",
    "\n",
    "# 차트 표시\n",
    "plt.show()"
   ]
  },
  {
   "cell_type": "markdown",
   "id": "61b16521",
   "metadata": {},
   "source": [
    "2023년과 2019년도의 남/녀 평균 소득 차이\n",
    "Comparison of Average Income by Gender in 2019 and 2023"
   ]
  },
  {
   "cell_type": "code",
   "execution_count": null,
   "id": "427279ca",
   "metadata": {},
   "outputs": [],
   "source": [
    "# 2019년 성별별 평균 수입 계산\n",
    "mean_income_2019 = welfare_2019.groupby('2019_sex')['2019_income'].mean().reset_index()\n",
    "mean_income_2019.columns = ['Sex', 'Mean_Income']\n",
    "mean_income_2019['Year'] = '2019'\n",
    "\n",
    "# 2023년 성별별 평균 수입 계산\n",
    "mean_income_2023 = welfare_2023.groupby('2023_sex')['2023_income'].mean().reset_index()\n",
    "mean_income_2023.columns = ['Sex', 'Mean_Income']\n",
    "mean_income_2023['Year'] = '2023'\n",
    "\n",
    "# 두 데이터프레임 병합\n",
    "comparison_df = pd.concat([mean_income_2019, mean_income_2023], ignore_index=True)\n",
    "\n",
    "# 차트 생성\n",
    "plt.figure(figsize=(10, 6))\n",
    "sns.barplot(data=comparison_df, x='Sex', y='Mean_Income', hue='Year', palette='pastel')\n",
    "\n",
    "# 차트 제목 및 레이블 설정\n",
    "plt.title('Comparison of Average Income by Gender in 2019 and 2023')\n",
    "plt.xlabel('Year')\n",
    "plt.ylabel('Mean Income')\n",
    "\n",
    "# 차트 표시\n",
    "plt.show()"
   ]
  },
  {
   "cell_type": "code",
   "execution_count": null,
   "id": "d99f8ab0",
   "metadata": {},
   "outputs": [],
   "source": [
    "# 2019년 코드 (셀 17)\n",
    "# 나이와 월급\n",
    "welfare_2019['2019_birth'].dtype\n",
    "\n",
    "# 2023년 코드 (셀 17)\n",
    "# 나이와 월급\n",
    "welfare_2023['2023_birth'].dtype"
   ]
  },
  {
   "cell_type": "code",
   "execution_count": null,
   "id": "9785a151",
   "metadata": {},
   "outputs": [],
   "source": [
    "# 2019년 코드 (셀 18)\n",
    "# 요약 통계\n",
    "print(welfare_2019['2019_birth'].describe)\n",
    "\n",
    "# 2023년 코드 (셀 18)\n",
    "# 요약 통계\n",
    "welfare_2023['2023_birth'].describe()"
   ]
  },
  {
   "cell_type": "code",
   "execution_count": null,
   "id": "4a8f340d",
   "metadata": {},
   "outputs": [],
   "source": [
    "# 2019년 코드 (셀 19)\n",
    "sns.histplot(data=welfare_2019, x= '2019_birth')\n"
   ]
  },
  {
   "cell_type": "code",
   "execution_count": null,
   "id": "e7dbbe5b",
   "metadata": {},
   "outputs": [],
   "source": [
    "\n",
    "# 2023년 코드 (셀 19)\n",
    "sns.histplot(data=welfare_2023, x= '2023_birth')"
   ]
  },
  {
   "cell_type": "code",
   "execution_count": null,
   "id": "35fcf94d",
   "metadata": {},
   "outputs": [],
   "source": [
    "# 데이터 준비\n",
    "welfare_2019['Year'] = '2019'\n",
    "welfare_2023['Year'] = '2023'\n",
    "\n",
    "# 필요한 열만 선택하고 열 이름을 일치시킵니다\n",
    "data_2019 = welfare_2019[['2019_birth', 'Year']].rename(columns={'2019_birth': 'Birth_Year'})\n",
    "data_2023 = welfare_2023[['2023_birth', 'Year']].rename(columns={'2023_birth': 'Birth_Year'})\n",
    "\n",
    "# 두 데이터프레임 병합\n",
    "combined_df = pd.concat([data_2019, data_2023], ignore_index=True)\n",
    "\n",
    "# 히스토그램 생성\n",
    "fig = px.histogram(combined_df, x='Birth_Year', color='Year', \n",
    "                   labels={'Birth_Year': 'Birth Year', 'Year': 'Year'},\n",
    "                   title='Distribution of Birth Year in 2019 and 2023',\n",
    "                   barmode='overlay')\n",
    "\n",
    "# 차트 표시\n",
    "fig.show()"
   ]
  },
  {
   "cell_type": "code",
   "execution_count": null,
   "id": "39caf00a",
   "metadata": {},
   "outputs": [],
   "source": [
    "# 2019년 코드 (셀 20)\n",
    "# 전처리\n",
    "welfare_2019['2019_birth'].describe() #이상치 확인\n",
    "\n",
    "# 2023년 코드 (셀 20)\n",
    "# 전처리\n",
    "welfare_2023['2023_birth'].describe() #이상치 확인"
   ]
  },
  {
   "cell_type": "code",
   "execution_count": null,
   "id": "132a6a9a",
   "metadata": {},
   "outputs": [],
   "source": [
    "# 2019년 코드 (셀 21)\n",
    "#결측치 확인\n",
    "welfare_2019['2019_birth'].isna().sum()\n",
    "\n",
    "# 2023년 코드 (셀 21)\n",
    "#결측치 확인\n",
    "welfare_2023['2023_birth'].isna().sum()"
   ]
  },
  {
   "cell_type": "code",
   "execution_count": null,
   "id": "e5810805",
   "metadata": {},
   "outputs": [],
   "source": [
    "# 2019년 코드 (셀 22)\n",
    "# 이상치 결측 처리\n",
    "welfare_2019['2019_birth'] =np.where(welfare_2019['2019_birth'] == 9999, np.nan, welfare_2019['2019_birth'])\n",
    "# 결측치 확인\n",
    "welfare_2019['2019_birth'].isna().sum()\n",
    "\n",
    "# 2023년 코드 (셀 22)\n",
    "# 이상치 결측 처리\n",
    "welfare_2023['2023_birth'] =np.where(welfare_2023['2023_birth'] == 9999, np.nan, welfare_2023['2023_birth'])\n",
    "# 결측치 확인\n",
    "welfare_2023['2023_birth'].isna().sum()"
   ]
  },
  {
   "cell_type": "code",
   "execution_count": null,
   "id": "cae68ffc",
   "metadata": {},
   "outputs": [],
   "source": [
    "# 2019년 코드 (셀 23)\n",
    "# assign 삽입\n",
    "welfare_2019 = welfare_2019.assign(age=2019 - welfare_2019['2019_birth'] + 1)\n",
    "welfare_2019['age'].describe()\n",
    "\n"
   ]
  },
  {
   "cell_type": "code",
   "execution_count": null,
   "id": "5fd1c056",
   "metadata": {},
   "outputs": [],
   "source": [
    "\n",
    "# 2023년 코드 (셀 23)\n",
    "# assign 삽입\n",
    "welfare_2023=welfare_2023.assign(age=2023 - welfare_2023['2023_birth'] + 1)\n",
    "welfare_2023['age'].describe()\n"
   ]
  },
  {
   "cell_type": "code",
   "execution_count": null,
   "id": "9b844ce0",
   "metadata": {},
   "outputs": [],
   "source": [
    "# 2019년 코드 (셀 24)\n",
    "sns.histplot(data=welfare_2019, x= 'age')\n"
   ]
  },
  {
   "cell_type": "code",
   "execution_count": null,
   "id": "2e01f16e",
   "metadata": {},
   "outputs": [],
   "source": [
    "\n",
    "# 2023년 코드 (셀 24)\n",
    "sns.histplot(data=welfare_2023, x= 'age')\n"
   ]
  },
  {
   "cell_type": "code",
   "execution_count": null,
   "id": "e644d024",
   "metadata": {},
   "outputs": [],
   "source": [
    "# 폰트 설정\n",
    "mpl.rcParams['font.family'] = 'Malgun Gothic'\n",
    "mpl.rcParams['axes.unicode_minus'] = False  # 음수 기호 제대로 표시\n",
    "\n",
    "# 연령대별 빈도수 집계\n",
    "age_dist_2019 = welfare_2019['age'].value_counts().reset_index()\n",
    "age_dist_2019.columns = ['age', 'Count']\n",
    "age_dist_2019['Year'] = '2019'\n",
    "\n",
    "age_dist_2023 = welfare_2023['age'].value_counts().reset_index()\n",
    "age_dist_2023.columns = ['age', 'Count']\n",
    "age_dist_2023['Year'] = '2023'\n",
    "\n",
    "# 두 데이터프레임 병합\n",
    "age_dist_combined = pd.concat([age_dist_2019, age_dist_2023], ignore_index=True)\n",
    "\n",
    "# 정렬된 연령대 리스트 (공통된 연령대를 기준으로 정렬)\n",
    "age_order = sorted(age_dist_combined['age'].unique(), key=lambda x: int(x))\n",
    "\n",
    "# 차트 생성\n",
    "plt.figure(figsize=(14, 7))\n",
    "sns.barplot(data=age_dist_combined, x='age', y='Count', hue='Year', palette='pastel', order=age_order)\n",
    "\n",
    "# 차트 제목 및 레이블 설정\n",
    "plt.title('2019년과 2023년 나이별 인구수')\n",
    "plt.xlabel('나이')\n",
    "plt.ylabel('명수')\n",
    "\n",
    "# 차트 표시\n",
    "plt.show()"
   ]
  },
  {
   "cell_type": "code",
   "execution_count": null,
   "id": "ef800870",
   "metadata": {},
   "outputs": [],
   "source": [
    "np.random.seed(0)\n",
    "age = np.arange(20, 90)\n",
    "mean_income_2019 = np.random.randint(100, 400, size=len(age))\n",
    "mean_income_2023 = np.random.randint(150, 450, size=len(age))\n",
    "\n",
    "data_2019 = pd.DataFrame({'age': age, 'mean_income': mean_income_2019})\n",
    "data_2023 = pd.DataFrame({'age': age, 'mean_income': mean_income_2023})\n",
    "\n",
    "# 두 개의 subplot 생성\n",
    "fig, axes = plt.subplots(nrows=1, ncols=1, figsize=(10, 6))\n",
    "\n",
    "# 각 subplot에 lineplot 그리기\n",
    "sns.lineplot(data=data_2019, x='age', y='mean_income', ax=axes, label='2019')\n",
    "sns.lineplot(data=data_2023, x='age', y='mean_income', ax=axes, label='2023')\n",
    "\n",
    "# 그래프 제목, 축 레이블 설정\n",
    "axes.set_title('Mean Income by Age')\n",
    "axes.set_xlabel('Age')\n",
    "axes.set_ylabel('Mean Income')\n",
    "\n",
    "# 범례 표시\n",
    "plt.legend()\n",
    "\n",
    "plt.show()"
   ]
  },
  {
   "cell_type": "code",
   "execution_count": null,
   "id": "6e9b1c11",
   "metadata": {},
   "outputs": [],
   "source": [
    "# 2019년 코드 (셀 25)\n",
    "#나이별 월급 평균\n",
    "age_income_2019 = welfare_2019.dropna(subset=['2019_income']) \\\n",
    "                   .groupby('age') \\\n",
    "                   .agg(mean_income = ('2019_income','mean'))\n",
    "age_income_2019\n"
   ]
  },
  {
   "cell_type": "code",
   "execution_count": null,
   "id": "10b1b7e2",
   "metadata": {},
   "outputs": [],
   "source": [
    "\n",
    "# 2023년 코드 (셀 25)\n",
    "#나이별 월급 평균\n",
    "age_income_2023 =welfare_2023.dropna(subset=['2023_income']) \\\n",
    "                   .groupby('age') \\\n",
    "                   .agg(mean_income = ('2023_income','mean'))\n",
    "age_income_2023"
   ]
  },
  {
   "cell_type": "code",
   "execution_count": null,
   "id": "4b2d8fa6",
   "metadata": {},
   "outputs": [],
   "source": [
    "# 2019년 코드 (셀 26)\n",
    "sns.lineplot(data=age_income_2019, x='age' ,y='mean_income')\n"
   ]
  },
  {
   "cell_type": "code",
   "execution_count": null,
   "id": "4b7f1aae",
   "metadata": {},
   "outputs": [],
   "source": [
    "\n",
    "# 2023년 코드 (셀 26)\n",
    "sns.lineplot(data=age_income_2023, x='age' ,y='mean_income')"
   ]
  },
  {
   "cell_type": "code",
   "execution_count": null,
   "id": "f9a73944",
   "metadata": {},
   "outputs": [],
   "source": [
    "# 2019년 코드 (셀 27)\n",
    "# 연령대에 따른 임금 차이\n",
    "# 초년층 : 30세미만\n",
    "# 중년층 : 30~59세\n",
    "# 노년층 : 60세 이상\n",
    "\n",
    "\n",
    "# 나이 변수 확인\n",
    "welfare_2019['age'].head()\n"
   ]
  },
  {
   "cell_type": "code",
   "execution_count": null,
   "id": "f37a8b7a",
   "metadata": {},
   "outputs": [],
   "source": [
    "\n",
    "# 2023년 코드 (셀 27)\n",
    "# 연령대에 따른 임금 차이\n",
    "# 초년층 : 30세미만\n",
    "# 중년층 : 30~59세\n",
    "# 노년층 : 60세 이상\n",
    "\n",
    "\n",
    "# 나이 변수 확인\n",
    "welfare_2023['age'].head()"
   ]
  },
  {
   "cell_type": "code",
   "execution_count": null,
   "id": "26b7098b",
   "metadata": {},
   "outputs": [],
   "source": [
    "# 2019년 코드 (셀 28)\n",
    "welfare_2019 =welfare_2019.assign(ageg19 = np.where(welfare_2019['age'] <  30, 'young',\n",
    "                               np.where(welfare_2019['age'] <= 59, 'middle','old')))\n",
    "\n",
    "welfare_2019['ageg19'].value_counts()\n"
   ]
  },
  {
   "cell_type": "code",
   "execution_count": null,
   "id": "e60dae31",
   "metadata": {},
   "outputs": [],
   "source": [
    "\n",
    "# 2023년 코드 (셀 28)\n",
    "welfare_2023 =welfare_2023.assign(ageg23 = np.where(welfare_2023['age'] <  30, 'young',\n",
    "                               np.where(welfare_2023['age'] <= 59, 'middle','old')))\n",
    "\n",
    "welfare_2023['ageg23'].value_counts()"
   ]
  },
  {
   "cell_type": "code",
   "execution_count": null,
   "id": "5e647fdf",
   "metadata": {},
   "outputs": [],
   "source": [
    "# 2019년 코드 (셀 29)\n",
    "# 빈도 그래프\n",
    "sns.countplot(data=welfare_2019, x='ageg19')\n"
   ]
  },
  {
   "cell_type": "code",
   "execution_count": null,
   "id": "6bf5491c",
   "metadata": {},
   "outputs": [],
   "source": [
    "\n",
    "# 2023년 코드 (셀 29)\n",
    "# 빈도 그래프\n",
    "sns.countplot(data=welfare_2023, x='ageg23')"
   ]
  },
  {
   "cell_type": "code",
   "execution_count": null,
   "id": "aebb8800",
   "metadata": {},
   "outputs": [],
   "source": [
    "# 2019년 코드 (셀 30)\n",
    "# 연령대별로 월급차이\n",
    "# 연령대별로 월급평균\n",
    "ageg_income_2019 = welfare_2019.dropna(subset=['2019_income']) \\\n",
    "                    .groupby('ageg19',as_index=False) \\\n",
    "                    .agg(mean_income=('2019_income','mean'))\n",
    "ageg_income_2019\n"
   ]
  },
  {
   "cell_type": "code",
   "execution_count": null,
   "id": "c485d43d",
   "metadata": {},
   "outputs": [],
   "source": [
    "\n",
    "# 2023년 코드 (셀 30)\n",
    "# 연령대별로 월급차이\n",
    "# 연령대별로 월급평균\n",
    "ageg_income_2023 = welfare_2023.dropna(subset=['2023_income']) \\\n",
    "                    .groupby('ageg23',as_index=False) \\\n",
    "                    .agg(mean_income=('2023_income','mean'))\n",
    "ageg_income_2023"
   ]
  },
  {
   "cell_type": "code",
   "execution_count": null,
   "id": "0ed8fb82",
   "metadata": {},
   "outputs": [],
   "source": [
    "# 2019년 코드 (셀 31)\n",
    "# 시각화 -막대 그래프 #정렬전\n",
    "sns.barplot(data=ageg_income_2019,x='ageg19',y='mean_income',\n",
    "            order=['young', 'middle','old'])\n"
   ]
  },
  {
   "cell_type": "code",
   "execution_count": null,
   "id": "491d206f",
   "metadata": {},
   "outputs": [],
   "source": [
    "\n",
    "# 2023년 코드 (셀 31)\n",
    "# 시각화 -막대 그래프 #정렬전\n",
    "sns.barplot(data=ageg_income_2023,x='ageg23',y='mean_income',\n",
    "            order=['young', 'middle','old'])"
   ]
  },
  {
   "cell_type": "code",
   "execution_count": null,
   "id": "0d31d9f3",
   "metadata": {},
   "outputs": [],
   "source": [
    "# 2019년과 2023년 데이터 결합\n",
    "ageg_income_2019['Year'] = '2019'\n",
    "ageg_income_2023['Year'] = '2023'\n",
    "\n",
    "# 데이터 결합\n",
    "comparison_df = pd.concat([ageg_income_2019, ageg_income_2023], ignore_index=True)\n",
    "\n",
    "# 차트 생성\n",
    "plt.figure(figsize=(12, 6))\n",
    "sns.barplot(data=comparison_df, x='ageg', y='mean_income', hue='Year', order=['young', 'middle', 'old'])\n",
    "\n",
    "# 차트 제목 및 레이블 설정\n",
    "plt.title('Comparison of Average Income by Age Group in 2019 and 2023')\n",
    "plt.xlabel('Age Group')\n",
    "plt.ylabel('Mean Income')\n",
    "\n",
    "# 차트 표시\n",
    "plt.show()"
   ]
  },
  {
   "cell_type": "markdown",
   "id": "88be14b1",
   "metadata": {},
   "source": [
    "### 연령대 및 성별"
   ]
  },
  {
   "cell_type": "code",
   "execution_count": null,
   "id": "33d4c930",
   "metadata": {},
   "outputs": [],
   "source": [
    "# 2019년 코드 (셀 33)\n",
    "# 연령대 및 성별 평균\n",
    "sex_income_2019 = welfare_2019.dropna(subset=['2019_income']) \\\n",
    "                    .groupby(['ageg','2019_sex'],as_index=False) \\\n",
    "                    .agg(mean_income=('2019_income','mean'))\n",
    "sex_income_2019\n"
   ]
  },
  {
   "cell_type": "code",
   "execution_count": null,
   "id": "39d56a9f",
   "metadata": {},
   "outputs": [],
   "source": [
    "\n",
    "# 2023년 코드 (셀 33)\n",
    "# 연령대 및 성별 평균\n",
    "sex_income_2023 = welfare_2023.dropna(subset=['2023_income']) \\\n",
    "                    .groupby(['ageg','2023_sex'],as_index=False) \\\n",
    "                    .agg(mean_income=('2023_income','mean'))\n",
    "sex_income_2023"
   ]
  },
  {
   "cell_type": "code",
   "execution_count": null,
   "id": "c1c7b49c",
   "metadata": {},
   "outputs": [],
   "source": [
    "# 2019년 코드 (셀 34)\n",
    "# 연령대 및 성별 월급 시각화 # hue <<이거 공부해\n",
    "sns.barplot(data=sex_income_2019,x='ageg',y='mean_income', hue='2019_sex',\n",
    "            order=['young', 'middle','old'])\n"
   ]
  },
  {
   "cell_type": "code",
   "execution_count": null,
   "id": "af16a74a",
   "metadata": {},
   "outputs": [],
   "source": [
    "\n",
    "# 2023년 코드 (셀 34)\n",
    "# 연령대 및 성별 월급 시각화 # hue <<이거 공부해\n",
    "sns.barplot(data=sex_income_2023,x='ageg',y='mean_income', hue='2023_sex',\n",
    "            order=['young', 'middle','old'])"
   ]
  },
  {
   "cell_type": "code",
   "execution_count": null,
   "id": "7f8a821e",
   "metadata": {},
   "outputs": [],
   "source": [
    "# 폰트 설정\n",
    "mpl.rcParams['font.family'] = 'Malgun Gothic'\n",
    "mpl.rcParams['axes.unicode_minus'] = False  # 음수 기호 제대로 표시\n",
    "\n",
    "\n",
    "# 2019년 성별별 평균 수입 집계\n",
    "sex_income_2019_summary = sex_income_2019.groupby('2019_sex')['mean_income'].sum().reset_index()\n",
    "sex_income_2019_summary.columns = ['Sex', 'Mean_Income']\n",
    "sex_income_2019_summary['Year'] = '2019'\n",
    "\n",
    "# 2023년 성별별 평균 수입 집계\n",
    "sex_income_2023_summary = sex_income_2023.groupby('2023_sex')['mean_income'].sum().reset_index()\n",
    "sex_income_2023_summary.columns = ['Sex', 'Mean_Income']\n",
    "sex_income_2023_summary['Year'] = '2023'\n",
    "\n",
    "# 두 데이터프레임 병합\n",
    "comparison_df = pd.concat([sex_income_2019_summary, sex_income_2023_summary], ignore_index=True)\n",
    "\n",
    "# 파이차트 생성\n",
    "fig, axes = plt.subplots(1, 2, figsize=(20, 8))\n",
    "\n",
    "\n",
    "# 2019년 파이차트\n",
    "axes[0].pie(sex_income_2019_summary['Mean_Income'],\n",
    "            labels=sex_income_2019_summary['Sex'],\n",
    "            autopct='%1.1f%%',\n",
    "            colors=['skyblue', 'pink'],  # 필요에 따라 색상 조정\n",
    "            startangle=140, textprops={'fontsize': 20, 'fontweight':'bold'})\n",
    "axes[0].set_title('2019년', fontsize=20)\n",
    "\n",
    "# 2023년 파이차트\n",
    "axes[1].pie(sex_income_2023_summary['Mean_Income'],\n",
    "            labels=sex_income_2023_summary['Sex'],\n",
    "            autopct='%1.1f%%',\n",
    "            colors=['lightblue', 'lightpink'],  # 필요에 따라 색상 조정\n",
    "            startangle=140, textprops={'fontsize': 20, 'fontweight':'bold'})\n",
    "axes[1].set_title('2023년', fontsize=20)\n",
    "\n",
    "# 전체 제목 및 그리드 추가\n",
    "plt.suptitle('2019년과 2023년 성별에 따른 평균 임금', fontsize=25)\n",
    "plt.grid(True)  # 그리드 추가\n",
    "\n",
    "# 차트 표시\n",
    "plt.show()"
   ]
  },
  {
   "cell_type": "code",
   "execution_count": null,
   "id": "e5970d04",
   "metadata": {},
   "outputs": [],
   "source": [
    "# 2019년 코드 (셀 35)\n",
    "#나이 및 성별 평균값\n",
    "sex_age_2019 =welfare_2019.dropna(subset=['2019_income']) \\\n",
    "                .groupby(['age','2019_sex'],as_index=False) \\\n",
    "                .agg(mean_income=('2019_income','mean'))\n",
    "\n",
    "sex_age_2019.head()\n"
   ]
  },
  {
   "cell_type": "code",
   "execution_count": null,
   "id": "e20ef43a",
   "metadata": {},
   "outputs": [],
   "source": [
    "\n",
    "# 2023년 코드 (셀 35)\n",
    "#나이 및 성별 평균값\n",
    "sex_age_2023 =welfare_2023.dropna(subset=['2023_income']) \\\n",
    "                .groupby(['age','2023_sex'],as_index=False) \\\n",
    "                .agg(mean_income=('2023_income','mean'))\n",
    "\n",
    "sex_age_2023.head()"
   ]
  },
  {
   "cell_type": "code",
   "execution_count": null,
   "id": "fc3ccc4b",
   "metadata": {},
   "outputs": [],
   "source": [
    "# 2019년 코드 (셀 36)\n",
    "# 성별 평균 급여 차이\n",
    "sns.lineplot(data= sex_age_2019, x= 'age',y='mean_income',hue='2019_sex')\n"
   ]
  },
  {
   "cell_type": "code",
   "execution_count": null,
   "id": "3f6377c4",
   "metadata": {},
   "outputs": [],
   "source": [
    "\n",
    "# 2023년 코드 (셀 36)\n",
    "# 성별 평균 급여 차이\n",
    "sns.lineplot(data= sex_age_2023, x= 'age',y='mean_income',hue='2023_sex')"
   ]
  },
  {
   "cell_type": "code",
   "execution_count": null,
   "id": "a1da8d0a",
   "metadata": {},
   "outputs": [],
   "source": [
    "# 2019년 데이터의 선 스타일을 점선으로 설정\n",
    "sns.lineplot(data=sex_age_2019, x='age', y='mean_income', hue='2019_sex',\n",
    "             linestyle='--', palette={'male': 'skyblue', 'female': 'violet'}, legend=False)\n",
    "\n",
    "# 2023년 데이터의 선 스타일을 실선으로 설정\n",
    "sns.lineplot(data=sex_age_2023, x='age', y='mean_income', hue='2023_sex',\n",
    "             linestyle='-', palette={'male': 'blue', 'female': 'red'}, legend=False)\n",
    "\n",
    "# 범례 핸들 생성\n",
    "legend_handles = [\n",
    "    mlines.Line2D([], [], color='skyblue', linestyle='--', label='2019 male'),\n",
    "    mlines.Line2D([], [], color='violet', linestyle='--', label='2019 female'),\n",
    "    mlines.Line2D([], [], color='blue', linestyle='-', label='2023 male'),\n",
    "    mlines.Line2D([], [], color='red', linestyle='-', label='2023 female')\n",
    "]\n",
    "\n",
    "# 범례 추가\n",
    "plt.legend(handles=legend_handles, title='범례', loc='upper left', bbox_to_anchor=(1.05, 1))\n",
    "\n",
    "# 그래프 제목 및 레이블 설정\n",
    "plt.title('성별에 따른 2019년 대비 2023년 평균수입변화')\n",
    "plt.xlabel('나이')\n",
    "plt.ylabel('평균수입')\n",
    "\n",
    "# 그래프 표시\n",
    "plt.show()"
   ]
  },
  {
   "cell_type": "markdown",
   "id": "016a9bb4",
   "metadata": {},
   "source": [
    "### 직업별 월급차이"
   ]
  },
  {
   "cell_type": "code",
   "execution_count": null,
   "id": "abebdf55",
   "metadata": {},
   "outputs": [],
   "source": [
    "# 2019년 코드 (셀 38)\n",
    "#직업 열 속성\n",
    "welfare_2019['2019_code_job'].dtype\n"
   ]
  },
  {
   "cell_type": "code",
   "execution_count": null,
   "id": "03b5de86",
   "metadata": {},
   "outputs": [],
   "source": [
    "\n",
    "# 2023년 코드 (셀 38)\n",
    "#직업 열 속성\n",
    "welfare_2023['2023_code_job'].dtype"
   ]
  },
  {
   "cell_type": "code",
   "execution_count": null,
   "id": "02765707",
   "metadata": {},
   "outputs": [],
   "source": [
    "# 2019년 코드 (셀 39)\n",
    "# 잡코드 빈도 수\n",
    "print(welfare_2019['2019_code_job'].value_counts)\n",
    "\n",
    "# 2023년 코드 (셀 39)\n",
    "# 잡코드 빈도 수\n",
    "print(welfare_2023['2023_code_job'].value_counts)"
   ]
  },
  {
   "cell_type": "code",
   "execution_count": null,
   "id": "853e2ce4",
   "metadata": {},
   "outputs": [],
   "source": [
    "# 2019년 코드 (셀 40)\n",
    "# 잡코드의 직종 # 엑셀안 시트를 불러오는 코드\n",
    "list_job_2019= pd.read_excel(\"D:/KNY_data/과제/Koweps_Codebook_2019.xlsx\",sheet_name='직종코드')\n",
    "list_job_2019.head()\n"
   ]
  },
  {
   "cell_type": "code",
   "execution_count": null,
   "id": "74af8814",
   "metadata": {},
   "outputs": [],
   "source": [
    "list_job_2019 = list_job_2019.rename(columns={'code_job': '2019_code_job'})\n",
    "list_job_2019.head()"
   ]
  },
  {
   "cell_type": "code",
   "execution_count": null,
   "id": "48107666",
   "metadata": {},
   "outputs": [],
   "source": [
    "\n",
    "# 2023년 코드 (셀 40)\n",
    "# 잡코드의 직종 # 엑셀안 시트를 불러오는 코드\n",
    "list_job_2023= pd.read_excel(\"D:/KNY_data/과제/2023 data/Koweps_Codebook_2023.xlsx\",sheet_name='직종코드')\n",
    "list_job_2023 = list_job_2023.rename(columns={'code_job': '2023_code_job'})\n",
    "list_job_2023.head()"
   ]
  },
  {
   "cell_type": "code",
   "execution_count": null,
   "id": "c4ac24e5",
   "metadata": {},
   "outputs": [],
   "source": [
    "# 2019년 코드 (셀 41)\n",
    "list_job_2019.shape # 직업군 종류\n"
   ]
  },
  {
   "cell_type": "code",
   "execution_count": null,
   "id": "61b7406d",
   "metadata": {},
   "outputs": [],
   "source": [
    "\n",
    "# 2023년 코드 (셀 41)\n",
    "list_job_2023.shape # 직업군 종류"
   ]
  },
  {
   "cell_type": "code",
   "execution_count": null,
   "id": "5ba31cea",
   "metadata": {},
   "outputs": [],
   "source": [
    "# 2019년 코드 (셀 42)\n",
    "# welfare_2019 에  list_job 결합하기\n",
    "welfare_2019 = welfare_2019.merge(list_job_2019, how='left', on='2019_code_job')\n",
    "\n"
   ]
  },
  {
   "cell_type": "code",
   "execution_count": null,
   "id": "c32de0c0",
   "metadata": {},
   "outputs": [],
   "source": [
    "\n",
    "# 2023년 코드 (셀 42)\n",
    "# welfare_2023 에  list_job 결합하기\n",
    "welfare_2023 = welfare_2023.merge(list_job_2023,how='left',on= '2023_code_job')"
   ]
  },
  {
   "cell_type": "code",
   "execution_count": null,
   "id": "5cc490bc",
   "metadata": {},
   "outputs": [],
   "source": [
    "# 2019년 코드 (셀 43)\n",
    "# code_job 결측지 제거하고 code_job , job 출력\n",
    "welfare_2019.dropna(subset=['2019_code_job'])[['2019_code_job','job']].head()\n"
   ]
  },
  {
   "cell_type": "code",
   "execution_count": null,
   "id": "bec30cc4",
   "metadata": {},
   "outputs": [],
   "source": [
    "\n",
    "# 2023년 코드 (셀 43)\n",
    "# code_job 결측지 제거하고 code_job , job 출력\n",
    "welfare_2023.dropna(subset=['2023_code_job'])[['2023_code_job','job']].head()"
   ]
  },
  {
   "cell_type": "code",
   "execution_count": null,
   "id": "a5b7b04e",
   "metadata": {},
   "outputs": [],
   "source": [
    "# 2019년 코드 (셀 44)\n",
    "# 직업별 월급 평균\n",
    "# 1.job ,income 결측지 제거\n",
    "# 2.job 분리\n",
    "# 3.income 평균\n",
    "job_income_2019 = welfare_2019.dropna(subset=['2019_code_job','2019_income']) \\\n",
    "                    .groupby('job', as_index=False) \\\n",
    "                    .agg(mean_income = ('2019_income','mean'))\n",
    "job_income_2019.head()\n"
   ]
  },
  {
   "cell_type": "code",
   "execution_count": null,
   "id": "6ecae95e",
   "metadata": {},
   "outputs": [],
   "source": [
    "\n",
    "# 2023년 코드 (셀 44)\n",
    "# 직업별 월급 평균\n",
    "# 1.job ,income 결측지 제거\n",
    "# 2.job 분리\n",
    "# 3.income 평균\n",
    "job_income_2023 = welfare_2023.dropna(subset=['2023_code_job','2023_income']) \\\n",
    "                    .groupby('job', as_index=False) \\\n",
    "                    .agg(mean_income = ('2023_income','mean'))\n",
    "job_income_2023.head()"
   ]
  },
  {
   "cell_type": "code",
   "execution_count": null,
   "id": "c7cd9b5d",
   "metadata": {},
   "outputs": [],
   "source": [
    "# 2019년 코드 (셀 45)\n",
    "# 상위 10위 추출\n",
    "top10_2019 = job_income_2019.sort_values('mean_income',ascending=False).head(10)\n",
    "top10_2019\n",
    "\n"
   ]
  },
  {
   "cell_type": "code",
   "execution_count": null,
   "id": "1aec12d6",
   "metadata": {},
   "outputs": [],
   "source": [
    "\n",
    "# 2023년 코드 (셀 45)\n",
    "# 상위 10위 추출\n",
    "top10_2023 = job_income_2023.sort_values('mean_income',ascending=False).head(10)\n",
    "top10_2023\n"
   ]
  },
  {
   "cell_type": "code",
   "execution_count": null,
   "id": "7b4796a4",
   "metadata": {},
   "outputs": [],
   "source": [
    "# 2019년 코드 (셀 46)\n",
    "import matplotlib.pyplot as plt\n",
    "plt.rcParams.update({'font.family' : \"Malgun Gothic\"})\n",
    "\n",
    "# 2023년 코드 (셀 46)\n",
    "import matplotlib.pyplot as plt\n",
    "plt.rcParams.update({'font.family' : \"Malgun Gothic\"})"
   ]
  },
  {
   "cell_type": "code",
   "execution_count": null,
   "id": "23428b13",
   "metadata": {},
   "outputs": [],
   "source": [
    "# 2019년 코드 (셀 47)\n",
    "# 위에 데이터 내용을 시각화\n",
    "sns.barplot(data= top10_2019, y='job',x='mean_income' )\n"
   ]
  },
  {
   "cell_type": "code",
   "execution_count": null,
   "id": "d774871a",
   "metadata": {},
   "outputs": [],
   "source": [
    "\n",
    "# 2023년 코드 (셀 47)\n",
    "# 위에 데이터 내용을 시각화\n",
    "sns.barplot(data= top10_2023, y='job',x='mean_income' )"
   ]
  },
  {
   "cell_type": "code",
   "execution_count": null,
   "id": "f130e1c0",
   "metadata": {},
   "outputs": [],
   "source": [
    "\n",
    "# 데이터 준비 (예시로 top10_2019와 top10_2023 데이터프레임이 있다고 가정)\n",
    "top10_2019['year'] = 2019\n",
    "top10_2023['year'] = 2023\n",
    "\n",
    "# 두 데이터프레임을 하나로 결합\n",
    "combined_data = pd.concat([top10_2023, top10_2019])\n",
    "\n",
    "# 색상 설정\n",
    "palette = {2023: '#4158A6', 2019: '#FF8343'}\n",
    "\n",
    "# 시각화\n",
    "plt.figure(figsize=(12, 10))\n",
    "sns.barplot(data=combined_data, y='job', x='mean_income', hue='year', palette=palette)\n",
    "\n",
    "# 그래프 타이틀과 레이블 설정\n",
    "plt.title('2019년과 2023년의 평균임금 상위 10개 직업군', fontsize = 25)\n",
    "plt.xlabel('평균임금', fontsize = 15)\n",
    "plt.ylabel('직업군', fontsize = 15)\n",
    "\n",
    "# 범례 위치 조정\n",
    "plt.legend(title='Year')\n",
    "\n",
    "plt.show()\n"
   ]
  },
  {
   "cell_type": "code",
   "execution_count": null,
   "id": "86e93b00",
   "metadata": {},
   "outputs": [],
   "source": [
    "# 2019년 코드 (셀 48)\n",
    "# 하위 10위 추출\n",
    "bottom10_2019 =job_income_2019.sort_values('mean_income').head(10)\n",
    "bottom10_2019\n"
   ]
  },
  {
   "cell_type": "code",
   "execution_count": null,
   "id": "7235172d",
   "metadata": {},
   "outputs": [],
   "source": [
    "\n",
    "# 2023년 코드 (셀 48)\n",
    "# 하위 10위 추출\n",
    "bottom10_2023 =job_income_2023.sort_values('mean_income').head(10)\n",
    "bottom10_2023"
   ]
  },
  {
   "cell_type": "code",
   "execution_count": null,
   "id": "1b76832c",
   "metadata": {},
   "outputs": [],
   "source": [
    "# 2019년 코드 (셀 49)\n",
    "sns.barplot(data= bottom10_2019, y='job',x='mean_income').set(xlim= (0,800))\n"
   ]
  },
  {
   "cell_type": "code",
   "execution_count": null,
   "id": "08e315e2",
   "metadata": {},
   "outputs": [],
   "source": [
    "\n",
    "# 2023년 코드 (셀 49)\n",
    "sns.barplot(data= bottom10_2023, y='job',x='mean_income').set(xlim= (0,800))"
   ]
  },
  {
   "cell_type": "code",
   "execution_count": null,
   "id": "84911bec",
   "metadata": {},
   "outputs": [],
   "source": [
    "\n",
    "# 데이터 준비 (예시로 top10_2019와 top10_2023 데이터프레임이 있다고 가정)\n",
    "bottom10_2019['year'] = 2019\n",
    "bottom10_2023['year'] = 2023\n",
    "\n",
    "# 두 데이터프레임을 하나로 결합\n",
    "combined_data = pd.concat([bottom10_2023, bottom10_2019])\n",
    "\n",
    "# 색상 설정\n",
    "palette = {2023: '#4158A6', 2019: '#FF8343'}\n",
    "\n",
    "# 시각화\n",
    "plt.figure(figsize=(12, 10))\n",
    "sns.barplot(data=combined_data, y='job', x='mean_income', hue='year', palette=palette)\n",
    "\n",
    "# 그래프 타이틀과 레이블 설정\n",
    "plt.title('2019년과 2023년의 평균임금 하위 10개 직업군', fontsize = 25)\n",
    "plt.xlabel('평균임금', fontsize = 15)\n",
    "plt.ylabel('직업군', fontsize = 15)\n",
    "\n",
    "# 범례 위치 조정\n",
    "plt.legend(title='Year')\n",
    "\n",
    "plt.show()\n"
   ]
  },
  {
   "cell_type": "markdown",
   "id": "8bbd8454",
   "metadata": {},
   "source": [
    "### 성별 직업 빈도"
   ]
  },
  {
   "cell_type": "code",
   "execution_count": null,
   "id": "3674551b",
   "metadata": {},
   "outputs": [],
   "source": [
    "print(welfare_2019.head)\n"
   ]
  },
  {
   "cell_type": "code",
   "execution_count": null,
   "id": "bf28b512",
   "metadata": {},
   "outputs": [],
   "source": [
    "# 남성 직업 빈도 상위 10개 추출\n",
    "# 1. 결측치 제거\n",
    "filtered_data = welfare_2019.dropna(subset=['job', '2019_sex'])\n",
    "\n",
    "# 2. Boolean 인덱싱을 사용하여 성별이 'male'인 데이터 필터링\n",
    "filtered_data = filtered_data[filtered_data['2019_sex'] == 'male']\n",
    "\n",
    "# 3. 직업별 빈도 계산\n",
    "job_male_2019 = (\n",
    "    filtered_data\n",
    "    .groupby('job', as_index=False)\n",
    "    .agg(n=('job', 'count'))\n",
    "    .sort_values('n', ascending=False)\n",
    "    .head(10)\n",
    ")\n",
    "\n",
    "job_male_2019"
   ]
  },
  {
   "cell_type": "code",
   "execution_count": null,
   "id": "e65b8e76",
   "metadata": {},
   "outputs": [],
   "source": [
    "# 2019년 코드 (셀 51)\n",
    "# 남성 직업 빈도 상위 10개 추출\n",
    "''' query 때문에 계속 에러가 나서 위에 있는 Boolean 인덱싱 사용\n",
    "job_male_2019 = welfare_2019.dropna(subset= ['job']) \\\n",
    "                 .query('2019_sex == \"male\"') \\\n",
    "                 .groupby('job', as_index=False) \\\n",
    "                 .agg(n = ('job','count')) \\\n",
    "                 .sort_values('n',ascending=False) \\\n",
    "                 .head(10)\n",
    "job_male_2019\n",
    "'''"
   ]
  },
  {
   "cell_type": "code",
   "execution_count": null,
   "id": "85a76aa7",
   "metadata": {},
   "outputs": [],
   "source": [
    "# 2023 남성 직업 빈도 상위 10개 추출\n",
    "# 1. 결측치 제거\n",
    "filtered_data = welfare_2023.dropna(subset=['job', '2023_sex'])\n",
    "\n",
    "# 2. Boolean 인덱싱을 사용하여 성별이 'male'인 데이터 필터링\n",
    "filtered_data = filtered_data[filtered_data['2023_sex'] == 'male']\n",
    "\n",
    "# 3. 직업별 빈도 계산\n",
    "job_male_2023 = (\n",
    "    filtered_data\n",
    "    .groupby('job', as_index=False)\n",
    "    .agg(n=('job', 'count'))\n",
    "    .sort_values('n', ascending=False)\n",
    "    .head(10)\n",
    ")\n",
    "\n",
    "job_male_2023"
   ]
  },
  {
   "cell_type": "code",
   "execution_count": null,
   "id": "983f833b",
   "metadata": {},
   "outputs": [],
   "source": [
    "# 2023년 코드 (셀 51)\n",
    "# 남성 직업 빈도 상위 10개 추출\n",
    "''' query 때문에 계속 에러가 나서 위에 있는 Boolean 인덱싱 사용\n",
    "job_male =welfare_2023.dropna(subset= ['job']) \\\n",
    "                 .query('2023_sex == \"male\"') \\\n",
    "                 .groupby('job', as_index=False) \\\n",
    "                 .agg(n = ('job','count')) \\\n",
    "                 .sort_values('n',ascending=False) \\\n",
    "                 .head(10)\n",
    "job_male\n",
    "'''"
   ]
  },
  {
   "cell_type": "code",
   "execution_count": null,
   "id": "c7f4f9ef",
   "metadata": {},
   "outputs": [],
   "source": [
    "# 2023, 2019 남성 직업 빈도 상위 10개 추출\n",
    "\n",
    "job_male_2023, job_male_2019\n"
   ]
  },
  {
   "cell_type": "code",
   "execution_count": null,
   "id": "4bd0b492",
   "metadata": {},
   "outputs": [],
   "source": [
    "# # 2019년 코드 (셀 52)\n",
    "# job_Female_2019 =welfare_2019.dropna(subset= ['job']) \\\n",
    "#                  .query('2019_sex == \"female\"') \\\n",
    "#                  .groupby('job', as_index=False) \\\n",
    "#                  .agg(n = ('job','count')) \\\n",
    "#                  .sort_values('n',ascending=False) \\\n",
    "#                  .head(10)\n",
    "# job_Female_2019\n"
   ]
  },
  {
   "cell_type": "code",
   "execution_count": null,
   "id": "3b951b2d",
   "metadata": {},
   "outputs": [],
   "source": [
    "# 여성 직업 빈도 상위 10개 추출\n",
    "# 1. 결측치 제거\n",
    "filtered_data = welfare_2019.dropna(subset=['job', '2019_sex'])\n",
    "\n",
    "# 2. Boolean 인덱싱을 사용하여 성별이 'female'인 데이터 필터링\n",
    "filtered_data = filtered_data[filtered_data['2019_sex'] == 'female']\n",
    "\n",
    "# 3. 직업별 빈도 계산\n",
    "job_Female_2019 = (\n",
    "    filtered_data\n",
    "    .groupby('job', as_index=False)\n",
    "    .agg(n=('job', 'count'))\n",
    "    .sort_values('n', ascending=False)\n",
    "    .head(10)\n",
    ")\n",
    "\n",
    "job_Female_2019"
   ]
  },
  {
   "cell_type": "code",
   "execution_count": null,
   "id": "1c416787",
   "metadata": {},
   "outputs": [],
   "source": [
    "\n",
    "# # 2023년 코드 (셀 52)\n",
    "# job_Female =welfare_2023.dropna(subset= ['job']) \\\n",
    "#                  .query('sex == \"female\"') \\\n",
    "#                  .groupby('job', as_index=False) \\\n",
    "#                  .agg(n = ('job','count')) \\\n",
    "#                  .sort_values('n',ascending=False) \\\n",
    "#                  .head(10)\n",
    "# job_Female"
   ]
  },
  {
   "cell_type": "code",
   "execution_count": null,
   "id": "da2b0b60",
   "metadata": {},
   "outputs": [],
   "source": [
    "filtered_data = welfare_2023.dropna(subset=['job', '2023_sex'])\n",
    "\n",
    "# 2. Boolean 인덱싱을 사용하여 성별이 'female'인 데이터 필터링\n",
    "filtered_data = filtered_data[filtered_data['2023_sex'] == 'female']\n",
    "\n",
    "# 3. 직업별 빈도 계산\n",
    "job_Female_2023 = (\n",
    "    filtered_data\n",
    "    .groupby('job', as_index=False)\n",
    "    .agg(n=('job', 'count'))\n",
    "    .sort_values('n', ascending=False)\n",
    "    .head(10)\n",
    ")\n",
    "\n",
    "job_Female_2023"
   ]
  },
  {
   "cell_type": "code",
   "execution_count": null,
   "id": "030cd719",
   "metadata": {},
   "outputs": [],
   "source": [
    "print(welfare_2019.head())\n"
   ]
  },
  {
   "cell_type": "code",
   "execution_count": null,
   "id": "f978685a",
   "metadata": {},
   "outputs": [],
   "source": [
    "# 2019년 코드 (셀 53)\n",
    "# 남성 직업 빈도 막대 그래프\n",
    "sns.barplot(data= job_male, y='job', x='n').set(xlim= (0,800))\n",
    "\n",
    "# 2023년 코드 (셀 53)\n",
    "# 남성 직업 빈도 막대 그래프\n",
    "sns.barplot(data= job_male, y='job', x='n').set(xlim= (0,800))"
   ]
  },
  {
   "cell_type": "code",
   "execution_count": null,
   "id": "6f85a0ac",
   "metadata": {},
   "outputs": [],
   "source": [
    "# 2019년 코드 (셀 54)\n",
    "sns.barplot(data= job_Female, y='job', x='n').set(xlim= (0,800))\n",
    "\n",
    "# 2023년 코드 (셀 54)\n",
    "sns.barplot(data= job_Female, y='job', x='n').set(xlim= (0,800))"
   ]
  },
  {
   "cell_type": "markdown",
   "id": "e775aa34",
   "metadata": {},
   "source": [
    "### 종교 유무에 따른 이혼율"
   ]
  },
  {
   "cell_type": "code",
   "execution_count": null,
   "id": "e38f96cb",
   "metadata": {},
   "outputs": [],
   "source": [
    "# 2019년 코드 (셀 56)\n",
    "# 타입확인\n",
    "welfare_2019['religion'].dtype\n",
    "\n",
    "# 2023년 코드 (셀 56)\n",
    "# 타입확인\n",
    "welfare_2023['religion'].dtype"
   ]
  },
  {
   "cell_type": "code",
   "execution_count": null,
   "id": "c1668f4a",
   "metadata": {},
   "outputs": [],
   "source": [
    "# 2019년 코드 (셀 57)\n",
    "# 빈도수 구하기\n",
    "welfare_2019['religion'].value_counts\n",
    "\n",
    "# 2023년 코드 (셀 57)\n",
    "# 빈도수 구하기\n",
    "welfare_2023['religion'].value_counts"
   ]
  },
  {
   "cell_type": "code",
   "execution_count": null,
   "id": "cf0045b4",
   "metadata": {},
   "outputs": [],
   "source": [
    "# 2019년 코드 (셀 58)\n",
    "# 전처리 1: 있음 2: 없음 9: 모름\n",
    "# 종교 유무 이름 부여\n",
    "welfare_2019['religion'] =np.where(welfare_2019['religion'] == 1, 'yes', 'no')\n",
    "\n",
    "# 빈도구하기\n",
    "welfare_2019['religion'].value_counts()\n",
    "\n",
    "# 2023년 코드 (셀 58)\n",
    "# 전처리 1: 있음 2: 없음 9: 모름\n",
    "# 종교 유무 이름 부여\n",
    "welfare_2023['religion'] =np.where(welfare_2023['religion'] == 1, 'yes', 'no')\n",
    "\n",
    "# 빈도구하기\n",
    "welfare_2023['religion'].value_counts()"
   ]
  },
  {
   "cell_type": "code",
   "execution_count": null,
   "id": "748105f4",
   "metadata": {},
   "outputs": [],
   "source": [
    "# 2019년 코드 (셀 59)\n",
    "sns.countplot(data=welfare_2019, x='religion')\n",
    "\n",
    "# 2023년 코드 (셀 59)\n",
    "sns.countplot(data=welfare_2023, x='religion')"
   ]
  },
  {
   "cell_type": "code",
   "execution_count": null,
   "id": "29e267c9",
   "metadata": {},
   "outputs": [],
   "source": [
    "# 2019년 코드 (셀 60)\n",
    "# 혼인상태여부\n",
    "welfare_2019['marriage_type'].dtype\n",
    "\n",
    "# 2023년 코드 (셀 60)\n",
    "# 혼인상태여부\n",
    "welfare_2023['marriage_type'].dtype"
   ]
  },
  {
   "cell_type": "code",
   "execution_count": null,
   "id": "565868a0",
   "metadata": {},
   "outputs": [],
   "source": [
    "# 2019년 코드 (셀 61)\n",
    "# 항목별 빈도수\n",
    "welfare_2019['marriage_type'].value_counts()\n",
    "\n",
    "# 2023년 코드 (셀 61)\n",
    "# 항목별 빈도수\n",
    "welfare_2023['marriage_type'].value_counts()"
   ]
  },
  {
   "cell_type": "code",
   "execution_count": null,
   "id": "b39ecca5",
   "metadata": {},
   "outputs": [],
   "source": [
    "# 2019년 코드 (셀 62)\n",
    "# 이혼 여부\n",
    "# 1.: marriage 3: divorce -그외 :etc\n",
    "welfare_2019['marriage'] = np.where(welfare_2019['marriage_type'] == 1, 'marriage',\n",
    "                      np.where(welfare_2019['marriage_type'] == 3, 'divorce','etc'))\n",
    "\n",
    "# 2023년 코드 (셀 62)\n",
    "# 이혼 여부\n",
    "# 1.: marriage 3: divorce -그외 :etc\n",
    "welfare_2023['marriage'] = np.where(welfare_2023['marriage_type'] == 1, 'marriage',\n",
    "                      np.where(welfare_2023['marriage_type'] == 3, 'divorce','etc'))"
   ]
  },
  {
   "cell_type": "code",
   "execution_count": null,
   "id": "ad164cec",
   "metadata": {},
   "outputs": [],
   "source": [
    "# 2019년 코드 (셀 63)\n",
    "# 이혼 여부별 빈도\n",
    "n_divorce=welfare_2019.groupby('marriage',as_index=False) \\\n",
    "                 .agg(n=('marriage','count'))\n",
    "n_divorce\n",
    "\n",
    "# 2023년 코드 (셀 63)\n",
    "# 이혼 여부별 빈도\n",
    "n_divorce=welfare_2023.groupby('marriage',as_index=False) \\\n",
    "                 .agg(n=('marriage','count'))\n",
    "n_divorce"
   ]
  },
  {
   "cell_type": "code",
   "execution_count": null,
   "id": "6edf7402",
   "metadata": {},
   "outputs": [],
   "source": [
    "# 2019년 코드 (셀 64)\n",
    "sns.barplot(data= n_divorce, x='marriage', y='n')\n",
    "\n",
    "# 2023년 코드 (셀 64)\n",
    "sns.barplot(data= n_divorce, x='marriage', y='n')"
   ]
  },
  {
   "cell_type": "code",
   "execution_count": null,
   "id": "eca1fde7",
   "metadata": {},
   "outputs": [],
   "source": [
    "# 2019년 코드 (셀 65)\n",
    "# 종교 유무에 따른 이혼율 분석\n",
    "# etc 제외\n",
    "# religion별 분리\n",
    "# marriage 추출\n",
    "# 비율 구하기\n",
    "rel_dev= welfare_2019.query('marriage ! = \"etc\"') \\\n",
    "                .groupby('religion', as_index=False) \\\n",
    "                ['marriage'] \\\n",
    "                .value_counts(normalize=True)\n",
    "rel_dev\n",
    "\n",
    "# 2023년 코드 (셀 65)\n",
    "# 종교 유무에 따른 이혼율 분석\n",
    "# etc 제외\n",
    "# religion별 분리\n",
    "# marriage 추출\n",
    "# 비율 구하기\n",
    "rel_dev= welfare_2023.query('marriage ! = \"etc\"') \\\n",
    "                .groupby('religion', as_index=False) \\\n",
    "                ['marriage'] \\\n",
    "                .value_counts(normalize=True)\n",
    "rel_dev"
   ]
  },
  {
   "cell_type": "code",
   "execution_count": null,
   "id": "a2c6a05a",
   "metadata": {},
   "outputs": [],
   "source": [
    "# 2019년 코드 (셀 66)\n",
    "# 전처리\n",
    "# 1.divoce 추출 (이혼)\n",
    "# 2.이혼에 해당하는 값만 추출한다음 proportion을 백분율로 바꾸고 \n",
    "# 3.소수점 첫째자리 까지 반올림\n",
    "rel_dev = rel_dev.query('marriage == \"divorce\"') \\\n",
    "                 .assign(proportion =rel_dev['proportion'] * 100) \\\n",
    "                 .round(1)\n",
    "rel_dev\n",
    "\n",
    "# 2023년 코드 (셀 66)\n",
    "# 전처리\n",
    "# 1.divoce 추출 (이혼)\n",
    "# 2.이혼에 해당하는 값만 추출한다음 proportion을 백분율로 바꾸고 \n",
    "# 3.소수점 첫째자리 까지 반올림\n",
    "rel_dev = rel_dev.query('marriage == \"divorce\"') \\\n",
    "                 .assign(proportion =rel_dev['proportion'] * 100) \\\n",
    "                 .round(1)\n",
    "rel_dev"
   ]
  },
  {
   "cell_type": "code",
   "execution_count": null,
   "id": "10ebf8c8",
   "metadata": {},
   "outputs": [],
   "source": [
    "# 2019년 코드 (셀 67)\n",
    "sns.barplot(data =rel_dev, x='religion' ,y='proportion')\n",
    "\n",
    "# 2023년 코드 (셀 67)\n",
    "sns.barplot(data =rel_dev, x='religion' ,y='proportion')"
   ]
  },
  {
   "cell_type": "markdown",
   "id": "a911aa9e",
   "metadata": {},
   "source": [
    "### 연령대 및 종교 유무에 따른 이혼율 분석"
   ]
  },
  {
   "cell_type": "code",
   "execution_count": null,
   "id": "a9bfea6b",
   "metadata": {},
   "outputs": [],
   "source": [
    "# 2019년 코드 (셀 69)\n",
    "age_div =welfare_2019.query('marriage ! =\"etc\"') \\\n",
    "                .groupby('ageg',as_index=False) \\\n",
    "                ['marriage'] \\\n",
    "                .value_counts(normalize=True)\n",
    "\n",
    "age_div\n",
    "\n",
    "# 2023년 코드 (셀 69)\n",
    "age_div =welfare_2023.query('marriage ! =\"etc\"') \\\n",
    "                .groupby('ageg',as_index=False) \\\n",
    "                ['marriage'] \\\n",
    "                .value_counts(normalize=True)\n",
    "\n",
    "age_div"
   ]
  },
  {
   "cell_type": "code",
   "execution_count": null,
   "id": "083ae16d",
   "metadata": {},
   "outputs": [],
   "source": [
    "# 2019년 코드 (셀 70)\n",
    "# 연령대 및 이혼 여부별 빈도\n",
    "welfare_2019.query('marriage ! =\"etc\"') \\\n",
    "       .groupby('ageg',as_index=False) \\\n",
    "       ['marriage'] \\\n",
    "       .value_counts()\n",
    "\n",
    "\n",
    "# 2023년 코드 (셀 70)\n",
    "# 연령대 및 이혼 여부별 빈도\n",
    "welfare_2023.query('marriage ! =\"etc\"') \\\n",
    "       .groupby('ageg',as_index=False) \\\n",
    "       ['marriage'] \\\n",
    "       .value_counts()\n"
   ]
  },
  {
   "cell_type": "code",
   "execution_count": null,
   "id": "b32751ab",
   "metadata": {},
   "outputs": [],
   "source": [
    "# 2019년 코드 (셀 71)\n",
    "# 연령대별 이혼율 그래프\n",
    "#초년 제외, 이혼 추출\n",
    "age_div = age_div.query('ageg !=\"young\"& marriage == \"divorce\"') \\\n",
    "                 .assign(proportion =age_div['proportion']* 100) \\\n",
    "                 .round(1)\n",
    "\n",
    "age_div\n",
    "\n",
    "# 2023년 코드 (셀 71)\n",
    "# 연령대별 이혼율 그래프\n",
    "#초년 제외, 이혼 추출\n",
    "age_div = age_div.query('ageg !=\"young\"& marriage == \"divorce\"') \\\n",
    "                 .assign(proportion =age_div['proportion']* 100) \\\n",
    "                 .round(1)\n",
    "\n",
    "age_div"
   ]
  },
  {
   "cell_type": "code",
   "execution_count": null,
   "id": "4c2cc39e",
   "metadata": {},
   "outputs": [],
   "source": [
    "# 2019년 코드 (셀 72)\n",
    "sns.barplot(data=age_div,x='ageg',y='proportion')\n",
    "\n",
    "# 2023년 코드 (셀 72)\n",
    "sns.barplot(data=age_div,x='ageg',y='proportion')"
   ]
  },
  {
   "cell_type": "markdown",
   "id": "5c9cc492",
   "metadata": {},
   "source": [
    "### 지역별 연령대 비율"
   ]
  },
  {
   "cell_type": "code",
   "execution_count": null,
   "id": "10d29eb7",
   "metadata": {},
   "outputs": [],
   "source": [
    "# 2019년 코드 (셀 74)\n",
    "# 전처리\n",
    "welfare_2019['code_region19'].dtype\n",
    "\n",
    "# 2023년 코드 (셀 74)\n",
    "# 전처리\n",
    "welfare_2023['code_region23'].dtype"
   ]
  },
  {
   "cell_type": "code",
   "execution_count": null,
   "id": "8191f139",
   "metadata": {},
   "outputs": [],
   "source": [
    "# 코드 셀 75 - 2019 vs 2023 비교\n",
    "# 2019 버전:\n",
    "welfare_2019['code_region19'].value_counts() #빈도수(지역)\n",
    "region_counts2019 = welfare_2019['code_region19'].value_counts()\n",
    "\n",
    "# 빈도수 출력\n",
    "print(region_counts2019)\n",
    "\n",
    "# 빈도수의 총합 계산 및 출력\n",
    "total_counts2019 = region_counts2019.sum()\n",
    "print(f\"빈도수의 총합: {total_counts2019}\")"
   ]
  },
  {
   "cell_type": "code",
   "execution_count": null,
   "id": "aca8eb82",
   "metadata": {},
   "outputs": [],
   "source": [
    "# 2023 버전:\n",
    "welfare_2023['code_region23'].value_counts() #빈도수(지역)\n",
    "region_counts2023 = welfare_2023['code_region23'].value_counts()\n",
    "\n",
    "# 빈도수 출력\n",
    "print(region_counts2023)\n",
    "\n",
    "# 빈도수의 총합 계산 및 출력\n",
    "total_counts2023 = region_counts2023.sum()\n",
    "print(f\"빈도수의 총합: {total_counts2023}\")\n"
   ]
  },
  {
   "cell_type": "code",
   "execution_count": null,
   "id": "fa1ae235",
   "metadata": {},
   "outputs": [],
   "source": [
    "# 코드 셀 76 - 2019 vs 2023 비교\n",
    "# 2019 버전:\n",
    "# 지역코드 목록 만들기\n",
    "list_region2019 = pd.DataFrame({'code_region19': [1,2,3,4,5,6,7],\n",
    "                            'region'     : ['서울',\n",
    "                                            '수도권(인천/경기)',\n",
    "                                            '부산/경남/울산',\n",
    "                                            '대구/경북',\n",
    "                                            '대전/충남',\n",
    "                                            '강원/충북',\n",
    "                                            '광주/전남/전북/제주도',\n",
    "                                            ]})\n",
    "list_region2019\n",
    "# 2023 버전:\n",
    "# 지역코드 목록 만들기\n",
    "list_region2023 = pd.DataFrame({'code_region23': [1,2,3,4,5,6,7],\n",
    "                            'region'     : ['서울',\n",
    "                                            '수도권(인천/경기)',\n",
    "                                            '부산/경남/울산',\n",
    "                                            '대구/경북',\n",
    "                                            '대전/충남',\n",
    "                                            '강원/충북',\n",
    "                                            '광주/전남/전북/제주도',\n",
    "                                            ]})\n",
    "list_region2023"
   ]
  },
  {
   "cell_type": "code",
   "execution_count": null,
   "id": "01f31118",
   "metadata": {},
   "outputs": [],
   "source": [
    "# 코드 셀 77 - 2019 vs 2023 비교\n",
    "# 2019 버전:\n",
    "welfare_2019 =welfare_2019.merge(list_region2019, how='left', on='code_region19')\n",
    "\n",
    "# 2023 버전:\n",
    "welfare_2023 =welfare_2023.merge(list_region2023, how='left', on='code_region23')\n"
   ]
  },
  {
   "cell_type": "code",
   "execution_count": null,
   "id": "31bdfe28",
   "metadata": {},
   "outputs": [],
   "source": [
    "# 2019년 코드 (셀 78)\n",
    "welfare_2019[['code_region19','region']].head(10)\n",
    "\n",
    "# 2023년 코드 (셀 78)\n",
    "welfare_2023[['code_region23','region']].head(10)"
   ]
  },
  {
   "cell_type": "code",
   "execution_count": null,
   "id": "1547bba8",
   "metadata": {},
   "outputs": [],
   "source": [
    "# 2019년 코드 (셀 79)\n",
    "#지역별 연령대 비율표\n",
    "#1. region 별 분리\n",
    "#2. ageg 추출\n",
    "#3. 비율구하기\n",
    "region_ageg19 =welfare_2019.groupby('region',as_index=False) \\\n",
    "                        ['ageg'] \\\n",
    "                        .value_counts(normalize=True)\n",
    "region_ageg19"
   ]
  },
  {
   "cell_type": "code",
   "execution_count": null,
   "id": "68bf5f61",
   "metadata": {},
   "outputs": [],
   "source": [
    "# 2023년 코드 (셀 79)\n",
    "#지역별 연령대 비율표\n",
    "#1. region 별 분리\n",
    "#2. ageg 추출\n",
    "#3. 비율구하기\n",
    "region_ageg23 =welfare_2023.groupby('region',as_index=False) \\\n",
    "                        ['ageg'] \\\n",
    "                        .value_counts(normalize=True)\n",
    "region_ageg23"
   ]
  },
  {
   "cell_type": "code",
   "execution_count": null,
   "id": "96827870",
   "metadata": {},
   "outputs": [],
   "source": [
    "# 2019년 코드 (셀 80)\n",
    "# 시각화\n",
    "sns.barplot(data= region_ageg, y='region',x='proportion',hue='ageg')\n",
    "\n",
    "# 2023년 코드 (셀 80)\n",
    "# 시각화\n",
    "sns.barplot(data= region_ageg, y='region',x='proportion',hue='ageg')"
   ]
  },
  {
   "cell_type": "code",
   "execution_count": null,
   "id": "77df3764",
   "metadata": {},
   "outputs": [],
   "source": [
    "# 2019년 코드 (셀 81)\n",
    "# 지역끼리 비교하기 쉽도록 연령대별 막대를 누적한 '누적 비율 막대 그래프 생성'\n",
    "# 피펏: 행과 열을 회전해 표의 구성을 바꾸는 작업\n",
    "pivot_df = (\n",
    "    region_ageg[['region', 'ageg', 'proportion']]\n",
    "    .pivot(index='region', columns='ageg', values='proportion')\n",
    ")\n",
    "\n",
    "pivot_df\n",
    "\n",
    "# 2023년 코드 (셀 81)\n",
    "# 지역끼리 비교하기 쉽도록 연령대별 막대를 누적한 '누적 비율 막대 그래프 생성'\n",
    "# 피펏: 행과 열을 회전해 표의 구성을 바꾸는 작업\n",
    "pivot_df = (\n",
    "    region_ageg[['region', 'ageg', 'proportion']]\n",
    "    .pivot(index='region', columns='ageg', values='proportion')\n",
    ")\n",
    "\n",
    "pivot_df"
   ]
  },
  {
   "cell_type": "code",
   "execution_count": null,
   "id": "1209955d",
   "metadata": {},
   "outputs": [],
   "source": [
    "# 2019년 코드 (셀 82)\n",
    "# 가로 막대 회전 사각화\n",
    "pivot_df.plot.barh(stacked= True)\n",
    "\n",
    "# 2023년 코드 (셀 82)\n",
    "# 가로 막대 회전 사각화\n",
    "pivot_df.plot.barh(stacked= True)"
   ]
  },
  {
   "cell_type": "code",
   "execution_count": null,
   "id": "6b513ea7",
   "metadata": {},
   "outputs": [],
   "source": [
    "# 2019년 코드 (셀 83)\n",
    "# 막대 정렬\n",
    "# 노년층 기준 정렬, 변수순서 바꾸기\n",
    "reorder_df=pivot_df.sort_values('old')[['young','middle', 'old']]\n",
    "reorder_df\n",
    "\n",
    "# 2023년 코드 (셀 83)\n",
    "# 막대 정렬\n",
    "# 노년층 기준 정렬, 변수순서 바꾸기\n",
    "reorder_df=pivot_df.sort_values('old')[['young','middle', 'old']]\n",
    "reorder_df"
   ]
  },
  {
   "cell_type": "code",
   "execution_count": null,
   "id": "78a20c97",
   "metadata": {},
   "outputs": [],
   "source": [
    "# 2019년 코드 (셀 84)\n",
    "# 누적 가로 막대 그래프\n",
    "reorder_df.plot.barh(stacked= True)\n",
    "\n",
    "# 2023년 코드 (셀 84)\n",
    "# 누적 가로 막대 그래프\n",
    "reorder_df.plot.barh(stacked= True)"
   ]
  },
  {
   "cell_type": "code",
   "execution_count": null,
   "id": "e2643601",
   "metadata": {},
   "outputs": [],
   "source": [
    "# 2019년 코드 (셀 85)\n",
    "\n",
    "\n",
    "# 2023년 코드 (셀 85)\n"
   ]
  }
 ],
 "metadata": {
  "kernelspec": {
   "display_name": "Python 3",
   "language": "python",
   "name": "python3"
  },
  "language_info": {
   "codemirror_mode": {
    "name": "ipython",
    "version": 3
   },
   "file_extension": ".py",
   "mimetype": "text/x-python",
   "name": "python",
   "nbconvert_exporter": "python",
   "pygments_lexer": "ipython3",
   "version": "3.12.4"
  }
 },
 "nbformat": 4,
 "nbformat_minor": 5
}
